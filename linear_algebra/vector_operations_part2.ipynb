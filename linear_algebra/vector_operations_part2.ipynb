{
 "cells": [
  {
   "cell_type": "markdown",
   "id": "806543a0-ce78-4f75-bbf3-96e7e7a08910",
   "metadata": {},
   "source": [
    "# Dot product, cross product and projection "
   ]
  },
  {
   "cell_type": "code",
   "execution_count": 1,
   "id": "de9cbb26-3961-49bb-a678-de89e125a2e7",
   "metadata": {},
   "outputs": [],
   "source": [
    "import numpy as np\n",
    "import matplotlib.pyplot as plt\n",
    "import seaborn as sns"
   ]
  },
  {
   "cell_type": "markdown",
   "id": "344e01c8-bcae-4992-ab41-761074a9ee8a",
   "metadata": {},
   "source": [
    "# Dot product"
   ]
  },
  {
   "cell_type": "code",
   "execution_count": 2,
   "id": "03e20590-a05a-46dc-8b05-95decd84f05b",
   "metadata": {},
   "outputs": [],
   "source": [
    "a=np.array([2,3])\n",
    "b=np.array([4,4])"
   ]
  },
  {
   "cell_type": "code",
   "execution_count": 3,
   "id": "922098e8-553e-4820-954b-30913ef29594",
   "metadata": {},
   "outputs": [],
   "source": [
    "a_dot_b = np.dot(a,b)"
   ]
  },
  {
   "cell_type": "code",
   "execution_count": 4,
   "id": "1654701e-7e0c-4397-831b-d42a912c3234",
   "metadata": {},
   "outputs": [
    {
     "data": {
      "text/plain": [
       "20"
      ]
     },
     "execution_count": 4,
     "metadata": {},
     "output_type": "execute_result"
    }
   ],
   "source": [
    "a_dot_b"
   ]
  },
  {
   "cell_type": "markdown",
   "id": "741f1214-88fb-43ad-8504-54db305f9d73",
   "metadata": {},
   "source": [
    "# Cross product"
   ]
  },
  {
   "cell_type": "code",
   "execution_count": 5,
   "id": "69d95153-ef48-4227-bbba-44f1f7063033",
   "metadata": {},
   "outputs": [],
   "source": [
    "a_cross_b = np.cross(a,b)"
   ]
  },
  {
   "cell_type": "code",
   "execution_count": 6,
   "id": "4829acf3-de5e-4ac4-ab6e-c181ce6f8730",
   "metadata": {},
   "outputs": [
    {
     "data": {
      "text/plain": [
       "array(-4)"
      ]
     },
     "execution_count": 6,
     "metadata": {},
     "output_type": "execute_result"
    }
   ],
   "source": [
    "a_cross_b"
   ]
  },
  {
   "cell_type": "markdown",
   "id": "669f65e3-17bf-4d4e-8f94-9897d2c438f5",
   "metadata": {},
   "source": [
    "# Projection of 'a' vector on 'v' vector"
   ]
  },
  {
   "cell_type": "code",
   "execution_count": 13,
   "id": "e2e8b2f4-8674-445d-9120-7031340a1b3c",
   "metadata": {},
   "outputs": [],
   "source": [
    "a = np.array([2,5])\n",
    "v= np.array([8,-6])"
   ]
  },
  {
   "cell_type": "code",
   "execution_count": 14,
   "id": "7f2ce552-ed4e-4c12-9453-2f295d52b5c0",
   "metadata": {},
   "outputs": [],
   "source": [
    "a_dot_v = np.dot(a,v)"
   ]
  },
  {
   "cell_type": "code",
   "execution_count": 15,
   "id": "da148a86-a9d7-402a-8639-b5611296d5d7",
   "metadata": {},
   "outputs": [],
   "source": [
    "mag_v = (np.sqrt(5**2+4**2))**2"
   ]
  },
  {
   "cell_type": "code",
   "execution_count": 16,
   "id": "8c7160a8-74d9-44c3-9b50-5847340ee519",
   "metadata": {},
   "outputs": [
    {
     "data": {
      "text/plain": [
       "41.0"
      ]
     },
     "execution_count": 16,
     "metadata": {},
     "output_type": "execute_result"
    }
   ],
   "source": [
    "mag_v"
   ]
  },
  {
   "cell_type": "code",
   "execution_count": 17,
   "id": "ca5c5b34-e8c5-402f-8faf-91a91062cf06",
   "metadata": {},
   "outputs": [
    {
     "data": {
      "text/plain": [
       "-0.34146341463414637"
      ]
     },
     "execution_count": 17,
     "metadata": {},
     "output_type": "execute_result"
    }
   ],
   "source": [
    "a_dot_v/mag_v"
   ]
  },
  {
   "cell_type": "code",
   "execution_count": 18,
   "id": "2cc731a3-13ce-4e4c-bdec-62ee3f14c5f1",
   "metadata": {},
   "outputs": [
    {
     "data": {
      "text/plain": [
       "array([-2.73170732,  2.04878049])"
      ]
     },
     "execution_count": 18,
     "metadata": {},
     "output_type": "execute_result"
    }
   ],
   "source": [
    "(a_dot_v/mag_v)*v"
   ]
  },
  {
   "cell_type": "code",
   "execution_count": null,
   "id": "8dfc8349-3a58-45f7-b92c-4158aa3994a0",
   "metadata": {},
   "outputs": [],
   "source": []
  }
 ],
 "metadata": {
  "kernelspec": {
   "display_name": "Python 3 (ipykernel)",
   "language": "python",
   "name": "python3"
  },
  "language_info": {
   "codemirror_mode": {
    "name": "ipython",
    "version": 3
   },
   "file_extension": ".py",
   "mimetype": "text/x-python",
   "name": "python",
   "nbconvert_exporter": "python",
   "pygments_lexer": "ipython3",
   "version": "3.11.5"
  }
 },
 "nbformat": 4,
 "nbformat_minor": 5
}
