{
 "cells": [
  {
   "cell_type": "code",
   "execution_count": 67,
   "id": "c61301e0-2d45-42e9-9591-46d8bf9e9bcb",
   "metadata": {},
   "outputs": [],
   "source": [
    "import pandas as pd\n",
    "import matplotlib.pyplot as plt\n",
    "import seaborn as sns\n",
    "import numpy as np"
   ]
  },
  {
   "cell_type": "markdown",
   "id": "e9126b2c-a45b-4a06-9565-77c6e51f8413",
   "metadata": {},
   "source": [
    "# Business class"
   ]
  },
  {
   "cell_type": "code",
   "execution_count": 68,
   "id": "d50f17d8-8ad6-4634-9586-72d19e24764d",
   "metadata": {},
   "outputs": [],
   "source": [
    "business_df = pd.read_csv('business.csv')\n",
    "economy_df = pd.read_csv('economy.csv')"
   ]
  },
  {
   "cell_type": "code",
   "execution_count": 69,
   "id": "56dee8f5-7073-45d8-bc97-e7fc83f65682",
   "metadata": {},
   "outputs": [
    {
     "name": "stdout",
     "output_type": "stream",
     "text": [
      "             date    airline ch_code  num_code dep_time       from time_taken  \\\n",
      "70338  27-03-2022  Air India      AI       546    21:15  Hyderabad    11h 40m   \n",
      "\n",
      "                                                    stop arr_time     to  \\\n",
      "70338  1-stop\\n\\t\\t\\t\\t\\t\\t\\t\\t\\t\\t\\t\\t\\n\\t\\t\\t\\t\\t\\t...    08:55  Delhi   \n",
      "\n",
      "        price  \n",
      "70338  42,724  \n",
      "              date  airline ch_code  num_code dep_time       from time_taken  \\\n",
      "115203  28-03-2022  Vistara      UK       810    07:00  Bangalore    10h 00m   \n",
      "\n",
      "                                                     stop arr_time         to  \\\n",
      "115203  1-stop\\n\\t\\t\\t\\t\\t\\t\\t\\t\\t\\t\\t\\t\\n\\t\\t\\t\\t\\t\\t...    17:00  Hyderabad   \n",
      "\n",
      "        price  \n",
      "115203  6,262  \n"
     ]
    }
   ],
   "source": [
    "print(business_df.sample())\n",
    "print(economy_df.sample())"
   ]
  },
  {
   "cell_type": "code",
   "execution_count": 70,
   "id": "9caf626a-ef5f-4794-a25c-8f7112d5c4e9",
   "metadata": {},
   "outputs": [
    {
     "name": "stdout",
     "output_type": "stream",
     "text": [
      "Index(['date', 'airline', 'ch_code', 'num_code', 'dep_time', 'from',\n",
      "       'time_taken', 'stop', 'arr_time', 'to', 'price'],\n",
      "      dtype='object')\n",
      "Index(['date', 'airline', 'ch_code', 'num_code', 'dep_time', 'from',\n",
      "       'time_taken', 'stop', 'arr_time', 'to', 'price'],\n",
      "      dtype='object')\n"
     ]
    }
   ],
   "source": [
    "print(business_df.columns)\n",
    "print(economy_df.columns)"
   ]
  },
  {
   "cell_type": "code",
   "execution_count": 71,
   "id": "47044f92-ea73-480d-a66a-e54d279069c0",
   "metadata": {},
   "outputs": [
    {
     "name": "stdout",
     "output_type": "stream",
     "text": [
      "<class 'pandas.core.frame.DataFrame'>\n",
      "RangeIndex: 93487 entries, 0 to 93486\n",
      "Data columns (total 11 columns):\n",
      " #   Column      Non-Null Count  Dtype \n",
      "---  ------      --------------  ----- \n",
      " 0   date        93487 non-null  object\n",
      " 1   airline     93487 non-null  object\n",
      " 2   ch_code     93487 non-null  object\n",
      " 3   num_code    93487 non-null  int64 \n",
      " 4   dep_time    93487 non-null  object\n",
      " 5   from        93487 non-null  object\n",
      " 6   time_taken  93487 non-null  object\n",
      " 7   stop        93487 non-null  object\n",
      " 8   arr_time    93487 non-null  object\n",
      " 9   to          93487 non-null  object\n",
      " 10  price       93487 non-null  object\n",
      "dtypes: int64(1), object(10)\n",
      "memory usage: 7.8+ MB\n"
     ]
    }
   ],
   "source": [
    "business_df.info()"
   ]
  },
  {
   "cell_type": "markdown",
   "id": "2b467bb8-29e0-4841-93d7-bbe473f7cf95",
   "metadata": {},
   "source": [
    "## adding class categorical column"
   ]
  },
  {
   "cell_type": "code",
   "execution_count": 72,
   "id": "7c6efe48-feb8-46cb-a84c-7e7891e17405",
   "metadata": {},
   "outputs": [],
   "source": [
    "business_df['class'] = 'Business'\n",
    "economy_df['class'] = 'Economy'"
   ]
  },
  {
   "cell_type": "markdown",
   "id": "af1e2539-d904-47fd-8c4e-114cc5ee1479",
   "metadata": {},
   "source": [
    "# merging both dataframes"
   ]
  },
  {
   "cell_type": "code",
   "execution_count": 147,
   "id": "41c322fa-25be-4ddc-9b65-96b6f426179d",
   "metadata": {},
   "outputs": [],
   "source": [
    "df = pd.concat([business_df,economy_df],axis=0)"
   ]
  },
  {
   "cell_type": "code",
   "execution_count": 148,
   "id": "d7a7da28-7a55-47d1-a3fd-ff8c759511e9",
   "metadata": {},
   "outputs": [
    {
     "data": {
      "text/html": [
       "<div>\n",
       "<style scoped>\n",
       "    .dataframe tbody tr th:only-of-type {\n",
       "        vertical-align: middle;\n",
       "    }\n",
       "\n",
       "    .dataframe tbody tr th {\n",
       "        vertical-align: top;\n",
       "    }\n",
       "\n",
       "    .dataframe thead th {\n",
       "        text-align: right;\n",
       "    }\n",
       "</style>\n",
       "<table border=\"1\" class=\"dataframe\">\n",
       "  <thead>\n",
       "    <tr style=\"text-align: right;\">\n",
       "      <th></th>\n",
       "      <th>date</th>\n",
       "      <th>airline</th>\n",
       "      <th>ch_code</th>\n",
       "      <th>num_code</th>\n",
       "      <th>dep_time</th>\n",
       "      <th>from</th>\n",
       "      <th>time_taken</th>\n",
       "      <th>stop</th>\n",
       "      <th>arr_time</th>\n",
       "      <th>to</th>\n",
       "      <th>price</th>\n",
       "      <th>class</th>\n",
       "    </tr>\n",
       "  </thead>\n",
       "  <tbody>\n",
       "    <tr>\n",
       "      <th>0</th>\n",
       "      <td>11-02-2022</td>\n",
       "      <td>Air India</td>\n",
       "      <td>AI</td>\n",
       "      <td>868</td>\n",
       "      <td>18:00</td>\n",
       "      <td>Delhi</td>\n",
       "      <td>02h 00m</td>\n",
       "      <td>non-stop</td>\n",
       "      <td>20:00</td>\n",
       "      <td>Mumbai</td>\n",
       "      <td>25,612</td>\n",
       "      <td>Business</td>\n",
       "    </tr>\n",
       "    <tr>\n",
       "      <th>1</th>\n",
       "      <td>11-02-2022</td>\n",
       "      <td>Air India</td>\n",
       "      <td>AI</td>\n",
       "      <td>624</td>\n",
       "      <td>19:00</td>\n",
       "      <td>Delhi</td>\n",
       "      <td>02h 15m</td>\n",
       "      <td>non-stop</td>\n",
       "      <td>21:15</td>\n",
       "      <td>Mumbai</td>\n",
       "      <td>25,612</td>\n",
       "      <td>Business</td>\n",
       "    </tr>\n",
       "    <tr>\n",
       "      <th>2</th>\n",
       "      <td>11-02-2022</td>\n",
       "      <td>Air India</td>\n",
       "      <td>AI</td>\n",
       "      <td>531</td>\n",
       "      <td>20:00</td>\n",
       "      <td>Delhi</td>\n",
       "      <td>24h 45m</td>\n",
       "      <td>1-stop\\n\\t\\t\\t\\t\\t\\t\\t\\t\\t\\t\\t\\t\\n\\t\\t\\t\\t\\t\\t...</td>\n",
       "      <td>20:45</td>\n",
       "      <td>Mumbai</td>\n",
       "      <td>42,220</td>\n",
       "      <td>Business</td>\n",
       "    </tr>\n",
       "    <tr>\n",
       "      <th>3</th>\n",
       "      <td>11-02-2022</td>\n",
       "      <td>Air India</td>\n",
       "      <td>AI</td>\n",
       "      <td>839</td>\n",
       "      <td>21:25</td>\n",
       "      <td>Delhi</td>\n",
       "      <td>26h 30m</td>\n",
       "      <td>1-stop\\n\\t\\t\\t\\t\\t\\t\\t\\t\\t\\t\\t\\t\\n\\t\\t\\t\\t\\t\\t...</td>\n",
       "      <td>23:55</td>\n",
       "      <td>Mumbai</td>\n",
       "      <td>44,450</td>\n",
       "      <td>Business</td>\n",
       "    </tr>\n",
       "    <tr>\n",
       "      <th>4</th>\n",
       "      <td>11-02-2022</td>\n",
       "      <td>Air India</td>\n",
       "      <td>AI</td>\n",
       "      <td>544</td>\n",
       "      <td>17:15</td>\n",
       "      <td>Delhi</td>\n",
       "      <td>06h 40m</td>\n",
       "      <td>1-stop\\n\\t\\t\\t\\t\\t\\t\\t\\t\\t\\t\\t\\t\\n\\t\\t\\t\\t\\t\\t...</td>\n",
       "      <td>23:55</td>\n",
       "      <td>Mumbai</td>\n",
       "      <td>46,690</td>\n",
       "      <td>Business</td>\n",
       "    </tr>\n",
       "  </tbody>\n",
       "</table>\n",
       "</div>"
      ],
      "text/plain": [
       "         date    airline ch_code  num_code dep_time   from time_taken  \\\n",
       "0  11-02-2022  Air India      AI       868    18:00  Delhi    02h 00m   \n",
       "1  11-02-2022  Air India      AI       624    19:00  Delhi    02h 15m   \n",
       "2  11-02-2022  Air India      AI       531    20:00  Delhi    24h 45m   \n",
       "3  11-02-2022  Air India      AI       839    21:25  Delhi    26h 30m   \n",
       "4  11-02-2022  Air India      AI       544    17:15  Delhi    06h 40m   \n",
       "\n",
       "                                                stop arr_time      to   price  \\\n",
       "0                                          non-stop     20:00  Mumbai  25,612   \n",
       "1                                          non-stop     21:15  Mumbai  25,612   \n",
       "2  1-stop\\n\\t\\t\\t\\t\\t\\t\\t\\t\\t\\t\\t\\t\\n\\t\\t\\t\\t\\t\\t...    20:45  Mumbai  42,220   \n",
       "3  1-stop\\n\\t\\t\\t\\t\\t\\t\\t\\t\\t\\t\\t\\t\\n\\t\\t\\t\\t\\t\\t...    23:55  Mumbai  44,450   \n",
       "4  1-stop\\n\\t\\t\\t\\t\\t\\t\\t\\t\\t\\t\\t\\t\\n\\t\\t\\t\\t\\t\\t...    23:55  Mumbai  46,690   \n",
       "\n",
       "      class  \n",
       "0  Business  \n",
       "1  Business  \n",
       "2  Business  \n",
       "3  Business  \n",
       "4  Business  "
      ]
     },
     "execution_count": 148,
     "metadata": {},
     "output_type": "execute_result"
    }
   ],
   "source": [
    "df.head()"
   ]
  },
  {
   "cell_type": "code",
   "execution_count": 149,
   "id": "13ff50d0-d70b-43de-8371-49e0da4c4641",
   "metadata": {},
   "outputs": [
    {
     "data": {
      "text/plain": [
       "(93487, 12)"
      ]
     },
     "execution_count": 149,
     "metadata": {},
     "output_type": "execute_result"
    }
   ],
   "source": [
    "business_df.shape"
   ]
  },
  {
   "cell_type": "code",
   "execution_count": 150,
   "id": "257264ad-da17-4f74-8a55-25df86a53501",
   "metadata": {},
   "outputs": [
    {
     "data": {
      "text/plain": [
       "(206774, 12)"
      ]
     },
     "execution_count": 150,
     "metadata": {},
     "output_type": "execute_result"
    }
   ],
   "source": [
    "economy_df.shape"
   ]
  },
  {
   "cell_type": "code",
   "execution_count": 151,
   "id": "29e3cae2-a03a-4d7a-9d1c-4603976e7c1a",
   "metadata": {},
   "outputs": [
    {
     "data": {
      "text/plain": [
       "300261"
      ]
     },
     "execution_count": 151,
     "metadata": {},
     "output_type": "execute_result"
    }
   ],
   "source": [
    "business_df.shape[0]+economy_df.shape[0]"
   ]
  },
  {
   "cell_type": "code",
   "execution_count": 152,
   "id": "4bea112a-084e-4645-adf3-ed718e712ad1",
   "metadata": {},
   "outputs": [
    {
     "data": {
      "text/plain": [
       "(300261, 12)"
      ]
     },
     "execution_count": 152,
     "metadata": {},
     "output_type": "execute_result"
    }
   ],
   "source": [
    "df.shape"
   ]
  },
  {
   "cell_type": "markdown",
   "id": "89cde0f1-1d85-4fff-8e46-694c8456de9b",
   "metadata": {},
   "source": [
    "# Data Cleaning"
   ]
  },
  {
   "cell_type": "code",
   "execution_count": 153,
   "id": "e288034b-cebe-41f2-84ea-479b63c5eeaa",
   "metadata": {},
   "outputs": [],
   "source": [
    "df['price']=df['price'].str.replace(',','').astype('float')\n",
    "df['num_code']=df['num_code'].astype('str')"
   ]
  },
  {
   "cell_type": "code",
   "execution_count": 154,
   "id": "c9caf356-b96d-4979-b15e-cbc8a8fde1e8",
   "metadata": {},
   "outputs": [
    {
     "name": "stdout",
     "output_type": "stream",
     "text": [
      "<class 'pandas.core.frame.DataFrame'>\n",
      "Index: 300261 entries, 0 to 206773\n",
      "Data columns (total 12 columns):\n",
      " #   Column      Non-Null Count   Dtype  \n",
      "---  ------      --------------   -----  \n",
      " 0   date        300261 non-null  object \n",
      " 1   airline     300261 non-null  object \n",
      " 2   ch_code     300261 non-null  object \n",
      " 3   num_code    300261 non-null  object \n",
      " 4   dep_time    300261 non-null  object \n",
      " 5   from        300261 non-null  object \n",
      " 6   time_taken  300261 non-null  object \n",
      " 7   stop        300261 non-null  object \n",
      " 8   arr_time    300261 non-null  object \n",
      " 9   to          300261 non-null  object \n",
      " 10  price       300261 non-null  float64\n",
      " 11  class       300261 non-null  object \n",
      "dtypes: float64(1), object(11)\n",
      "memory usage: 29.8+ MB\n"
     ]
    }
   ],
   "source": [
    "df.info()"
   ]
  },
  {
   "cell_type": "code",
   "execution_count": 155,
   "id": "8eb5202c-8483-49d2-91cf-5cbf16f42512",
   "metadata": {},
   "outputs": [
    {
     "data": {
      "text/plain": [
       "date          0\n",
       "airline       0\n",
       "ch_code       0\n",
       "num_code      0\n",
       "dep_time      0\n",
       "from          0\n",
       "time_taken    0\n",
       "stop          0\n",
       "arr_time      0\n",
       "to            0\n",
       "price         0\n",
       "class         0\n",
       "dtype: int64"
      ]
     },
     "execution_count": 155,
     "metadata": {},
     "output_type": "execute_result"
    }
   ],
   "source": [
    "df.isnull().sum()"
   ]
  },
  {
   "cell_type": "code",
   "execution_count": 156,
   "id": "5efadccc-78f1-4451-b1d1-2779b087d929",
   "metadata": {},
   "outputs": [
    {
     "data": {
      "text/html": [
       "<div>\n",
       "<style scoped>\n",
       "    .dataframe tbody tr th:only-of-type {\n",
       "        vertical-align: middle;\n",
       "    }\n",
       "\n",
       "    .dataframe tbody tr th {\n",
       "        vertical-align: top;\n",
       "    }\n",
       "\n",
       "    .dataframe thead th {\n",
       "        text-align: right;\n",
       "    }\n",
       "</style>\n",
       "<table border=\"1\" class=\"dataframe\">\n",
       "  <thead>\n",
       "    <tr style=\"text-align: right;\">\n",
       "      <th></th>\n",
       "      <th>date</th>\n",
       "      <th>airline</th>\n",
       "      <th>ch_code</th>\n",
       "      <th>num_code</th>\n",
       "      <th>dep_time</th>\n",
       "      <th>from</th>\n",
       "      <th>time_taken</th>\n",
       "      <th>stop</th>\n",
       "      <th>arr_time</th>\n",
       "      <th>to</th>\n",
       "      <th>price</th>\n",
       "      <th>class</th>\n",
       "    </tr>\n",
       "  </thead>\n",
       "  <tbody>\n",
       "    <tr>\n",
       "      <th>563</th>\n",
       "      <td>14-02-2022</td>\n",
       "      <td>Air India</td>\n",
       "      <td>AI</td>\n",
       "      <td>807</td>\n",
       "      <td>17:20</td>\n",
       "      <td>Delhi</td>\n",
       "      <td>15h 15m</td>\n",
       "      <td>1-stop\\n\\t\\t\\t\\t\\t\\t\\t\\t\\t\\t\\t\\t\\n\\t\\t\\t\\t\\t\\t...</td>\n",
       "      <td>08:35</td>\n",
       "      <td>Mumbai</td>\n",
       "      <td>12150.0</td>\n",
       "      <td>Economy</td>\n",
       "    </tr>\n",
       "    <tr>\n",
       "      <th>6181</th>\n",
       "      <td>13-03-2022</td>\n",
       "      <td>Air India</td>\n",
       "      <td>AI</td>\n",
       "      <td>475</td>\n",
       "      <td>13:00</td>\n",
       "      <td>Delhi</td>\n",
       "      <td>24h 35m</td>\n",
       "      <td>1-stop\\n\\t\\t\\t\\t\\t\\t\\t\\t\\t\\t\\t\\t\\n\\t\\t\\t\\t\\t\\t...</td>\n",
       "      <td>13:35</td>\n",
       "      <td>Mumbai</td>\n",
       "      <td>4780.0</td>\n",
       "      <td>Economy</td>\n",
       "    </tr>\n",
       "  </tbody>\n",
       "</table>\n",
       "</div>"
      ],
      "text/plain": [
       "            date    airline ch_code num_code dep_time   from time_taken  \\\n",
       "563   14-02-2022  Air India      AI      807    17:20  Delhi    15h 15m   \n",
       "6181  13-03-2022  Air India      AI      475    13:00  Delhi    24h 35m   \n",
       "\n",
       "                                                   stop arr_time      to  \\\n",
       "563   1-stop\\n\\t\\t\\t\\t\\t\\t\\t\\t\\t\\t\\t\\t\\n\\t\\t\\t\\t\\t\\t...    08:35  Mumbai   \n",
       "6181  1-stop\\n\\t\\t\\t\\t\\t\\t\\t\\t\\t\\t\\t\\t\\n\\t\\t\\t\\t\\t\\t...    13:35  Mumbai   \n",
       "\n",
       "        price    class  \n",
       "563   12150.0  Economy  \n",
       "6181   4780.0  Economy  "
      ]
     },
     "execution_count": 156,
     "metadata": {},
     "output_type": "execute_result"
    }
   ],
   "source": [
    "df[df.duplicated()]"
   ]
  },
  {
   "cell_type": "code",
   "execution_count": 157,
   "id": "cb92bf2c-8851-4513-a324-8a3d2fad296c",
   "metadata": {},
   "outputs": [],
   "source": [
    "df.drop_duplicates(inplace=True)"
   ]
  },
  {
   "cell_type": "code",
   "execution_count": 158,
   "id": "fe7a5e1f-b1bd-4677-8b60-03f1ec5c0c21",
   "metadata": {},
   "outputs": [
    {
     "data": {
      "text/plain": [
       "Index(['date', 'airline', 'ch_code', 'num_code', 'dep_time', 'from',\n",
       "       'time_taken', 'stop', 'arr_time', 'to', 'price', 'class'],\n",
       "      dtype='object')"
      ]
     },
     "execution_count": 158,
     "metadata": {},
     "output_type": "execute_result"
    }
   ],
   "source": [
    "df.columns"
   ]
  },
  {
   "cell_type": "markdown",
   "id": "0dada67d-a3af-47c2-af88-469f3ef135e9",
   "metadata": {},
   "source": [
    "- from : source_city\n",
    "- ch_code+num_code : flight_code\n",
    "- dep_time : departure_time\n",
    "- stop : stops\n",
    "- arr_time : arrival_time\n",
    "- to : destination_city\n",
    "- class : (it has two categorical values business and economy)\n",
    "- time_taken : duration\n",
    "- "
   ]
  },
  {
   "cell_type": "code",
   "execution_count": 159,
   "id": "2bda987c-f2f6-4dbf-8995-99e48f93fd62",
   "metadata": {},
   "outputs": [
    {
     "name": "stdout",
     "output_type": "stream",
     "text": [
      "object\n",
      "object\n"
     ]
    }
   ],
   "source": [
    "print(df['num_code'].dtype)\n",
    "print(df['ch_code'].dtype)"
   ]
  },
  {
   "cell_type": "code",
   "execution_count": 161,
   "id": "e3436e24-bf16-4d55-97ce-4a5ac8d08f66",
   "metadata": {},
   "outputs": [],
   "source": [
    "df['flight_code'] = df['ch_code']+'-'+df['num_code']"
   ]
  },
  {
   "cell_type": "code",
   "execution_count": 162,
   "id": "89a14c33-b556-4097-9847-4fd14af7d493",
   "metadata": {},
   "outputs": [
    {
     "data": {
      "text/plain": [
       "array(['AI-868', 'AI-624', 'AI-531', ..., '6E-557', '6E-7127', '6E-7259'],\n",
       "      dtype=object)"
      ]
     },
     "execution_count": 162,
     "metadata": {},
     "output_type": "execute_result"
    }
   ],
   "source": [
    "df['flight_code'].unique()\n"
   ]
  },
  {
   "cell_type": "code",
   "execution_count": 163,
   "id": "72f07e94-2ae4-4a26-8ff9-13b3801b1fdb",
   "metadata": {},
   "outputs": [
    {
     "data": {
      "text/plain": [
       "array(['AI', 'UK', 'SG', 'I5', 'G8', '6E', '2T', 'S5'], dtype=object)"
      ]
     },
     "execution_count": 163,
     "metadata": {},
     "output_type": "execute_result"
    }
   ],
   "source": [
    "df['ch_code'].unique()"
   ]
  },
  {
   "cell_type": "code",
   "execution_count": 164,
   "id": "7ca9f7e8-3b8b-4d42-bf2e-2fe69211e46a",
   "metadata": {},
   "outputs": [
    {
     "data": {
      "text/plain": [
       "array(['868', '624', '531', ..., '7141', '7127', '7259'], dtype=object)"
      ]
     },
     "execution_count": 164,
     "metadata": {},
     "output_type": "execute_result"
    }
   ],
   "source": [
    "df['num_code'].unique()"
   ]
  },
  {
   "cell_type": "code",
   "execution_count": 165,
   "id": "7c98a369-55cd-41a9-bf73-30c0a26ae8ef",
   "metadata": {},
   "outputs": [],
   "source": [
    "col_dict={'from':'source_city','to':'destination_city','time_taken':'duartion','stop':'stops'}"
   ]
  },
  {
   "cell_type": "code",
   "execution_count": 166,
   "id": "74595921-774c-491a-890e-2fc253a19032",
   "metadata": {},
   "outputs": [],
   "source": [
    "df.rename(columns=col_dict,inplace=True)"
   ]
  },
  {
   "cell_type": "code",
   "execution_count": 167,
   "id": "9560f4c0-7b59-4987-ab10-dcdaba9d7c01",
   "metadata": {},
   "outputs": [
    {
     "data": {
      "text/plain": [
       "Index(['date', 'airline', 'ch_code', 'num_code', 'dep_time', 'source_city',\n",
       "       'duartion', 'stops', 'arr_time', 'destination_city', 'price', 'class',\n",
       "       'flight_code'],\n",
       "      dtype='object')"
      ]
     },
     "execution_count": 167,
     "metadata": {},
     "output_type": "execute_result"
    }
   ],
   "source": [
    "df.columns"
   ]
  },
  {
   "cell_type": "code",
   "execution_count": 168,
   "id": "415d3fee-ad66-4a21-8e62-c8eb96a938b1",
   "metadata": {},
   "outputs": [],
   "source": [
    "df.drop(columns=['ch_code', 'num_code'],inplace=True)"
   ]
  },
  {
   "cell_type": "code",
   "execution_count": 169,
   "id": "55f8e3f9-8448-4923-ad1f-bd5fd140e09e",
   "metadata": {},
   "outputs": [
    {
     "data": {
      "text/plain": [
       "Index(['date', 'airline', 'dep_time', 'source_city', 'duartion', 'stops',\n",
       "       'arr_time', 'destination_city', 'price', 'class', 'flight_code'],\n",
       "      dtype='object')"
      ]
     },
     "execution_count": 169,
     "metadata": {},
     "output_type": "execute_result"
    }
   ],
   "source": [
    "df.columns"
   ]
  },
  {
   "cell_type": "code",
   "execution_count": 170,
   "id": "9e7bf100-77fe-4f04-b28c-2d3214454de1",
   "metadata": {},
   "outputs": [
    {
     "data": {
      "text/plain": [
       "(300259, 11)"
      ]
     },
     "execution_count": 170,
     "metadata": {},
     "output_type": "execute_result"
    }
   ],
   "source": [
    "df.shape"
   ]
  },
  {
   "cell_type": "code",
   "execution_count": 172,
   "id": "e4fc93e6-3add-467c-a042-f617a9a5dd5b",
   "metadata": {},
   "outputs": [],
   "source": [
    "df.loc[df['class']=='business','class_label'] =1\n",
    "df.loc[df['class']=='economy','class_label'] =0\n"
   ]
  },
  {
   "cell_type": "markdown",
   "id": "0ec62d2c-c2a2-4b1d-aab1-81917fba60c1",
   "metadata": {},
   "source": [
    "# visualization"
   ]
  },
  {
   "cell_type": "code",
   "execution_count": 173,
   "id": "ec90f55b-4aa2-472d-99f8-e782bba7c874",
   "metadata": {},
   "outputs": [
    {
     "data": {
      "text/plain": [
       "Text(0.5, 1.0, 'Price vs Airline Histogram')"
      ]
     },
     "execution_count": 173,
     "metadata": {},
     "output_type": "execute_result"
    },
    {
     "data": {
      "image/png": "[encoded data removed]",
      "text/plain": [
       "<Figure size 1200x600 with 1 Axes>"
      ]
     },
     "metadata": {},
     "output_type": "display_data"
    }
   ],
   "source": [
    "plt.figure(figsize=(12,6))\n",
    "sns.histplot(data=df,x='price',hue='airline',bins=50)\n",
    "plt.xlabel('price')\n",
    "plt.title('Price vs Airline Histogram')"
   ]
  },
  {
   "cell_type": "markdown",
   "id": "32f5609b-f66b-47e8-8efb-a9ccca4e73b8",
   "metadata": {},
   "source": [
    "# Insights\n",
    "- from the above histogram,we can say Vistara air line is costly compared to Air India"
   ]
  },
  {
   "cell_type": "code",
   "execution_count": 174,
   "id": "e1976595-9026-4db3-a5e2-2c743296d8e6",
   "metadata": {},
   "outputs": [
    {
     "data": {
      "text/plain": [
       "Index(['date', 'airline', 'dep_time', 'source_city', 'duartion', 'stops',\n",
       "       'arr_time', 'destination_city', 'price', 'class', 'flight_code',\n",
       "       'class_label'],\n",
       "      dtype='object')"
      ]
     },
     "execution_count": 174,
     "metadata": {},
     "output_type": "execute_result"
    }
   ],
   "source": [
    "df.columns"
   ]
  },
  {
   "cell_type": "code",
   "execution_count": 180,
   "id": "91241fcd-627c-4679-b44a-eb6c5d8146df",
   "metadata": {},
   "outputs": [
    {
     "data": {
      "text/plain": [
       "Text(0.5, 1.0, 'Price vs Source_city Histogram')"
      ]
     },
     "execution_count": 180,
     "metadata": {},
     "output_type": "execute_result"
    },
    {
     "data": {
      "image/png": "[encoded data removed]",
      "text/plain": [
       "<Figure size 1200x600 with 1 Axes>"
      ]
     },
     "metadata": {},
     "output_type": "display_data"
    }
   ],
   "source": [
    "plt.figure(figsize=(12,6))\n",
    "sns.histplot(data=df,x='price',hue='source_city',bins=10)\n",
    "plt.xlabel('price')\n",
    "plt.title('Price vs Source_city Histogram')"
   ]
  },
  {
   "cell_type": "markdown",
   "id": "c959a846-6f3c-4c5c-a4c6-126b9ee6e3b6",
   "metadata": {},
   "source": [
    "- flights which are taking off from delhi are clostlier"
   ]
  },
  {
   "cell_type": "code",
   "execution_count": 176,
   "id": "9913799d-9b8a-4255-b9cb-fd67cba93ea5",
   "metadata": {},
   "outputs": [
    {
     "data": {
      "text/plain": [
       "Index(['date', 'airline', 'dep_time', 'source_city', 'duartion', 'stops',\n",
       "       'arr_time', 'destination_city', 'price', 'class', 'flight_code',\n",
       "       'class_label'],\n",
       "      dtype='object')"
      ]
     },
     "execution_count": 176,
     "metadata": {},
     "output_type": "execute_result"
    }
   ],
   "source": [
    "df.columns"
   ]
  },
  {
   "cell_type": "code",
   "execution_count": 183,
   "id": "e102b519-df37-44f4-8329-f3d2ad010ec3",
   "metadata": {},
   "outputs": [
    {
     "data": {
      "text/plain": [
       "Text(0.5, 1.0, 'Price vs Class Histogram')"
      ]
     },
     "execution_count": 183,
     "metadata": {},
     "output_type": "execute_result"
    },
    {
     "data": {
      "image/png": "[encoded data removed]",
      "text/plain": [
       "<Figure size 1200x600 with 1 Axes>"
      ]
     },
     "metadata": {},
     "output_type": "display_data"
    }
   ],
   "source": [
    "plt.figure(figsize=(12,6))\n",
    "sns.histplot(data=df,x='price',hue='class',bins=20)\n",
    "plt.xlabel('price')\n",
    "plt.title('Price vs Class Histogram')"
   ]
  },
  {
   "cell_type": "markdown",
   "id": "be5e19b5-f03f-4159-8dcc-1c640fe893b5",
   "metadata": {},
   "source": [
    "- economy class is paying more than business class"
   ]
  },
  {
   "cell_type": "code",
   "execution_count": null,
   "id": "b089095d-2685-45d3-b21c-d8e6f85a88f6",
   "metadata": {},
   "outputs": [],
   "source": [
    "data = [100,75, 50, 120, 80]\n",
    "#labels = ['Section 1', 'Section 2', 'Section 3', 'Section 4', 'Section 5']\n",
    "colors = sns.color_palette('pastel')[0:2]\n",
    "plt.pie(df['price'],  colors = colors, autopct='%.0f%%')\n",
    "plt.show()"
   ]
  },
  {
   "cell_type": "code",
   "execution_count": null,
   "id": "66e5a402-5cf7-4ac4-9267-696268198188",
   "metadata": {},
   "outputs": [],
   "source": []
  }
 ],
 "metadata": {
  "kernelspec": {
   "display_name": "Python 3 (ipykernel)",
   "language": "python",
   "name": "python3"
  },
  "language_info": {
   "codemirror_mode": {
    "name": "ipython",
    "version": 3
   },
   "file_extension": ".py",
   "mimetype": "text/x-python",
   "name": "python",
   "nbconvert_exporter": "python",
   "pygments_lexer": "ipython3",
   "version": "3.11.5"
  }
 },
 "nbformat": 4,
 "nbformat_minor": 5
}
