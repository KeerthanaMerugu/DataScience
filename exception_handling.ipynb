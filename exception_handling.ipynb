{
 "cells": [
  {
   "cell_type": "markdown",
   "id": "7d941883-ffb7-48cb-83fe-852beb0a62b5",
   "metadata": {},
   "source": [
    "# Python Exception Handling"
   ]
  },
  {
   "cell_type": "code",
   "execution_count": 1,
   "id": "11225aab-fd8d-4489-afa3-7c4822ac331d",
   "metadata": {},
   "outputs": [],
   "source": [
    "a=10"
   ]
  },
  {
   "cell_type": "code",
   "execution_count": 2,
   "id": "d78e4a7f-8f1c-4b0f-b6b6-92cdb9fd79c8",
   "metadata": {},
   "outputs": [
    {
     "ename": "NameError",
     "evalue": "name 'b' is not defined",
     "output_type": "error",
     "traceback": [
      "\u001b[1;31m---------------------------------------------------------------------------\u001b[0m",
      "\u001b[1;31mNameError\u001b[0m                                 Traceback (most recent call last)",
      "Cell \u001b[1;32mIn[2], line 1\u001b[0m\n\u001b[1;32m----> 1\u001b[0m a\u001b[38;5;241m=\u001b[39m\u001b[43mb\u001b[49m\n",
      "\u001b[1;31mNameError\u001b[0m: name 'b' is not defined"
     ]
    }
   ],
   "source": [
    "a=b"
   ]
  },
  {
   "cell_type": "markdown",
   "id": "27554429-f48d-40c5-bd0b-baf828962e9a",
   "metadata": {},
   "source": [
    "- whenever we get the erro , person using application will not be able to understand. so we have to give some explanation using exception handling"
   ]
  },
  {
   "cell_type": "code",
   "execution_count": 5,
   "id": "2908236b-9e14-4b7d-ac1b-0b4c2082878d",
   "metadata": {},
   "outputs": [
    {
     "name": "stdout",
     "output_type": "stream",
     "text": [
      "Some problem may have occured\n"
     ]
    }
   ],
   "source": [
    "try:\n",
    "    # complete code where exception can occur\n",
    "    a=b\n",
    "except:\n",
    "    print(\"Some problem may have occured\")"
   ]
  },
  {
   "cell_type": "code",
   "execution_count": 6,
   "id": "f7f8398b-f310-4741-a1b1-57f1f6835a45",
   "metadata": {},
   "outputs": [
    {
     "name": "stdout",
     "output_type": "stream",
     "text": [
      "name 'b' is not defined\n"
     ]
    }
   ],
   "source": [
    "try:\n",
    "    a=b\n",
    "except Exception as ex:\n",
    "    print(ex)"
   ]
  },
  {
   "cell_type": "code",
   "execution_count": 7,
   "id": "f3dd64b5-1578-44c8-a845-05277221936f",
   "metadata": {},
   "outputs": [
    {
     "ename": "NameError",
     "evalue": "name 'b' is not defined",
     "output_type": "error",
     "traceback": [
      "\u001b[1;31m---------------------------------------------------------------------------\u001b[0m",
      "\u001b[1;31mNameError\u001b[0m                                 Traceback (most recent call last)",
      "Cell \u001b[1;32mIn[7], line 1\u001b[0m\n\u001b[1;32m----> 1\u001b[0m a\u001b[38;5;241m=\u001b[39m\u001b[43mb\u001b[49m\n",
      "\u001b[1;31mNameError\u001b[0m: name 'b' is not defined"
     ]
    }
   ],
   "source": [
    "a=b"
   ]
  },
  {
   "cell_type": "markdown",
   "id": "8851920b-a044-4c75-8bb4-b0a1ee6d5997",
   "metadata": {},
   "source": [
    "- NameError is childclass of Exception class\n",
    "- we have to define childclass before main class\n",
    "- if we dont get exception from childclass, it will get into main exception class"
   ]
  },
  {
   "cell_type": "code",
   "execution_count": 8,
   "id": "df2f58f9-c688-41a7-9fe6-98c524a0603d",
   "metadata": {},
   "outputs": [
    {
     "name": "stdout",
     "output_type": "stream",
     "text": [
      "The user have not defined the var\n"
     ]
    }
   ],
   "source": [
    "try:\n",
    "    a=b\n",
    "except NameError as ex1:\n",
    "    print(\"The user have not defined the var\")\n",
    "except Exception as ex:\n",
    "    print(ex)"
   ]
  },
  {
   "cell_type": "code",
   "execution_count": 9,
   "id": "657ed5f9-cd9b-483a-a244-34bdd511bae6",
   "metadata": {},
   "outputs": [
    {
     "ename": "TypeError",
     "evalue": "unsupported operand type(s) for +: 'int' and 'str'",
     "output_type": "error",
     "traceback": [
      "\u001b[1;31m---------------------------------------------------------------------------\u001b[0m",
      "\u001b[1;31mTypeError\u001b[0m                                 Traceback (most recent call last)",
      "Cell \u001b[1;32mIn[9], line 3\u001b[0m\n\u001b[0;32m      1\u001b[0m a\u001b[38;5;241m=\u001b[39m\u001b[38;5;241m1\u001b[39m\n\u001b[0;32m      2\u001b[0m b\u001b[38;5;241m=\u001b[39m\u001b[38;5;124m'\u001b[39m\u001b[38;5;124mk\u001b[39m\u001b[38;5;124m'\u001b[39m\n\u001b[1;32m----> 3\u001b[0m c\u001b[38;5;241m=\u001b[39m\u001b[43ma\u001b[49m\u001b[38;5;241;43m+\u001b[39;49m\u001b[43mb\u001b[49m\n",
      "\u001b[1;31mTypeError\u001b[0m: unsupported operand type(s) for +: 'int' and 'str'"
     ]
    }
   ],
   "source": [
    "a=1\n",
    "b='k'\n",
    "c=a+b"
   ]
  },
  {
   "cell_type": "code",
   "execution_count": 11,
   "id": "da10585b-1e21-4cc0-9214-a09c8f7e5f0b",
   "metadata": {},
   "outputs": [
    {
     "name": "stdout",
     "output_type": "stream",
     "text": [
      "Try to make data types similar\n"
     ]
    }
   ],
   "source": [
    "try:\n",
    "    a=1\n",
    "    b='s'\n",
    "    c=a+b\n",
    "except NameError:\n",
    "    print(\"The user have not defined the var\")\n",
    "except TypeError:\n",
    "    print(\"Try to make data types similar\")\n",
    "except Exception as ex:\n",
    "    print(ex)"
   ]
  },
  {
   "cell_type": "code",
   "execution_count": 12,
   "id": "0764d3d9-e976-4cdf-ae25-343a9bd90361",
   "metadata": {},
   "outputs": [
    {
     "ename": "ZeroDivisionError",
     "evalue": "division by zero",
     "output_type": "error",
     "traceback": [
      "\u001b[1;31m---------------------------------------------------------------------------\u001b[0m",
      "\u001b[1;31mZeroDivisionError\u001b[0m                         Traceback (most recent call last)",
      "Cell \u001b[1;32mIn[12], line 1\u001b[0m\n\u001b[1;32m----> 1\u001b[0m \u001b[38;5;241;43m1\u001b[39;49m\u001b[38;5;241;43m/\u001b[39;49m\u001b[38;5;241;43m0\u001b[39;49m\n",
      "\u001b[1;31mZeroDivisionError\u001b[0m: division by zero"
     ]
    }
   ],
   "source": [
    "1/0"
   ]
  },
  {
   "cell_type": "code",
   "execution_count": 14,
   "id": "689483a7-e2eb-4d86-9076-82380a589a3f",
   "metadata": {},
   "outputs": [
    {
     "name": "stdout",
     "output_type": "stream",
     "text": [
      "division by zero\n"
     ]
    }
   ],
   "source": [
    "try:\n",
    "    a=1\n",
    "    b=0\n",
    "    c=a/b\n",
    "except NameError:\n",
    "    print(\"The user have not defined the var\")\n",
    "#except ZeroDivisionError:\n",
    "   # print(\"Please provide number greater than 0\")\n",
    "except TypeError:\n",
    "    print(\"Try to make data types similar\")\n",
    "except Exception as ex:\n",
    "    print(ex)"
   ]
  },
  {
   "cell_type": "code",
   "execution_count": 15,
   "id": "36f438d6-6ce5-4c56-aead-b22df9653e1c",
   "metadata": {},
   "outputs": [
    {
     "name": "stdout",
     "output_type": "stream",
     "text": [
      "Please provide number greater than 0\n"
     ]
    }
   ],
   "source": [
    "try:\n",
    "    a=1\n",
    "    b=0\n",
    "    c=a/b\n",
    "\n",
    "except ZeroDivisionError:\n",
    "    print(\"Please provide number greater than 0\")\n",
    "except TypeError:\n",
    "    print(\"Try to make data types similar\")\n",
    "except Exception as ex:\n",
    "    print(ex)"
   ]
  },
  {
   "cell_type": "markdown",
   "id": "37774cc4-9798-415e-9125-63ba95ed6550",
   "metadata": {},
   "source": [
    "# try else"
   ]
  },
  {
   "cell_type": "markdown",
   "id": "10fc7a46-3241-4d10-a693-937f20b40683",
   "metadata": {},
   "source": [
    "- we can add else block for try, if we dont get any exceptions (code in try block execute successfully) it will follow else block"
   ]
  },
  {
   "cell_type": "code",
   "execution_count": 17,
   "id": "4a971757-7d9b-4898-a5b8-182821945079",
   "metadata": {},
   "outputs": [
    {
     "name": "stdout",
     "output_type": "stream",
     "text": [
      "1 2 0.5\n"
     ]
    }
   ],
   "source": [
    "try:\n",
    "    a=1\n",
    "    b=2\n",
    "    c=a/b\n",
    "\n",
    "except ZeroDivisionError:\n",
    "    print(\"Please provide number greater than 0\")\n",
    "except TypeError:\n",
    "    print(\"Try to make data types similar\")\n",
    "except Exception as ex:\n",
    "    print(ex)\n",
    "else:\n",
    "    print(a,b,c)"
   ]
  },
  {
   "cell_type": "markdown",
   "id": "1665be05-f427-4d4c-8bbb-b0a8d9b4cae3",
   "metadata": {},
   "source": [
    "# try else finally"
   ]
  },
  {
   "cell_type": "markdown",
   "id": "16dae310-c4ad-4f3d-bc08-482edb79b76a",
   "metadata": {},
   "source": [
    "final block will excute always"
   ]
  },
  {
   "cell_type": "code",
   "execution_count": 18,
   "id": "e5823afa-6bed-4fc6-beaf-eb7adbdf1f88",
   "metadata": {},
   "outputs": [
    {
     "name": "stdout",
     "output_type": "stream",
     "text": [
      "1 2 0.5\n",
      "done\n"
     ]
    }
   ],
   "source": [
    "try:\n",
    "    a=1\n",
    "    b=2\n",
    "    c=a/b\n",
    "\n",
    "except ZeroDivisionError:\n",
    "    print(\"Please provide number greater than 0\")\n",
    "except TypeError:\n",
    "    print(\"Try to make data types similar\")\n",
    "except Exception as ex:\n",
    "    print(ex)\n",
    "else:\n",
    "    print(a,b,c)\n",
    "finally:\n",
    "    print(\"done\")"
   ]
  },
  {
   "cell_type": "code",
   "execution_count": 20,
   "id": "04112cc9-f053-4ee2-857c-6b6ef3081c9d",
   "metadata": {},
   "outputs": [
    {
     "name": "stdout",
     "output_type": "stream",
     "text": [
      "Please provide number greater than 0\n",
      "done\n"
     ]
    }
   ],
   "source": [
    "try:\n",
    "    a=1\n",
    "    b=0\n",
    "    c=a/b\n",
    "\n",
    "except ZeroDivisionError:\n",
    "    print(\"Please provide number greater than 0\")\n",
    "except TypeError:\n",
    "    print(\"Try to make data types similar\")\n",
    "except Exception as ex:\n",
    "    print(ex)\n",
    "else:\n",
    "    print(a,b,c)\n",
    "finally:\n",
    "    print(\"done\")"
   ]
  },
  {
   "cell_type": "markdown",
   "id": "a9e3c184-1ac0-4580-bd93-f90bbda12bfb",
   "metadata": {},
   "source": [
    "# use case of finally block"
   ]
  },
  {
   "cell_type": "raw",
   "id": "35340f1e-f823-45ef-8ded-f2108eb91bb2",
   "metadata": {},
   "source": [
    "try:\n",
    "    # data base connection\n",
    "    with some exception\n",
    "except:\n",
    "    ###\n",
    "finally:\n",
    "    # we can close db connection. o.w exception get caught and connection will be open"
   ]
  },
  {
   "cell_type": "markdown",
   "id": "c4e85b08-fe8d-4640-8c94-3572c96830ec",
   "metadata": {},
   "source": [
    "# Custom Exception"
   ]
  },
  {
   "cell_type": "code",
   "execution_count": null,
   "id": "7523e08a-53f4-4584-9c36-c7f3db62f69a",
   "metadata": {},
   "outputs": [],
   "source": []
  }
 ],
 "metadata": {
  "kernelspec": {
   "display_name": "Python 3 (ipykernel)",
   "language": "python",
   "name": "python3"
  },
  "language_info": {
   "codemirror_mode": {
    "name": "ipython",
    "version": 3
   },
   "file_extension": ".py",
   "mimetype": "text/x-python",
   "name": "python",
   "nbconvert_exporter": "python",
   "pygments_lexer": "ipython3",
   "version": "3.11.5"
  }
 },
 "nbformat": 4,
 "nbformat_minor": 5
}
