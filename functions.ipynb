{
 "cells": [
  {
   "cell_type": "code",
   "execution_count": 1,
   "id": "fb236b60-d421-4029-8364-b4857ee8282f",
   "metadata": {},
   "outputs": [],
   "source": [
    "import numpy as np"
   ]
  },
  {
   "cell_type": "code",
   "execution_count": 2,
   "id": "7cf67256-3669-45df-b946-d1194aceb9e7",
   "metadata": {},
   "outputs": [],
   "source": [
    "def add(a,b):\n",
    "    return a+b"
   ]
  },
  {
   "cell_type": "code",
   "execution_count": 3,
   "id": "4c48d994-5077-4e75-b4c3-38c983f4f3f6",
   "metadata": {},
   "outputs": [
    {
     "data": {
      "text/plain": [
       "4"
      ]
     },
     "execution_count": 3,
     "metadata": {},
     "output_type": "execute_result"
    }
   ],
   "source": [
    "add(2,2)"
   ]
  },
  {
   "cell_type": "code",
   "execution_count": 4,
   "id": "a15cf101-bef7-4287-b9d4-fa67acfbc5b4",
   "metadata": {},
   "outputs": [],
   "source": [
    "def details(name,age=12):\n",
    "    return name,age"
   ]
  },
  {
   "cell_type": "code",
   "execution_count": 5,
   "id": "1306819f-34be-48be-b7ac-2ae566a6fb6c",
   "metadata": {},
   "outputs": [
    {
     "data": {
      "text/plain": [
       "('keerthana', 12)"
      ]
     },
     "execution_count": 5,
     "metadata": {},
     "output_type": "execute_result"
    }
   ],
   "source": [
    "details('keerthana')"
   ]
  },
  {
   "cell_type": "code",
   "execution_count": 6,
   "id": "371b61f0-1d26-48c4-86b1-2f0a22bb90e2",
   "metadata": {},
   "outputs": [
    {
     "data": {
      "text/plain": [
       "('k', 16)"
      ]
     },
     "execution_count": 6,
     "metadata": {},
     "output_type": "execute_result"
    }
   ],
   "source": [
    "details('k',16)"
   ]
  },
  {
   "cell_type": "code",
   "execution_count": 7,
   "id": "64638020-633a-4e2e-991c-0d2a77777443",
   "metadata": {},
   "outputs": [],
   "source": [
    "def details(name,age):\n",
    "    return name,age"
   ]
  },
  {
   "cell_type": "code",
   "execution_count": 8,
   "id": "7b4feb89-5d03-4054-b8fd-36f9aa09b7fe",
   "metadata": {},
   "outputs": [
    {
     "data": {
      "text/plain": [
       "('rio', 14)"
      ]
     },
     "execution_count": 8,
     "metadata": {},
     "output_type": "execute_result"
    }
   ],
   "source": [
    "details(age=14,name='rio')"
   ]
  },
  {
   "cell_type": "markdown",
   "id": "1b799359-70dc-477d-9a2d-9c117120f469",
   "metadata": {},
   "source": [
    "# multiple aruguments"
   ]
  },
  {
   "cell_type": "code",
   "execution_count": 13,
   "id": "4525f8e4-0799-46ae-8981-2cdcbdb3fcca",
   "metadata": {},
   "outputs": [],
   "source": [
    "def mul(*args,**kwargs):\n",
    "    val = args\n",
    "    kval = kwargs\n",
    "    print(val)\n",
    "    print(kval)\n",
    "    return val,kval"
   ]
  },
  {
   "cell_type": "code",
   "execution_count": 14,
   "id": "bd20630d-ddef-4ae1-b164-d087fbedac08",
   "metadata": {},
   "outputs": [
    {
     "name": "stdout",
     "output_type": "stream",
     "text": [
      "('j', 'klm')\n",
      "{'age': 12, 'year': 1000}\n"
     ]
    },
    {
     "data": {
      "text/plain": [
       "(('j', 'klm'), {'age': 12, 'year': 1000})"
      ]
     },
     "execution_count": 14,
     "metadata": {},
     "output_type": "execute_result"
    }
   ],
   "source": [
    "mul('j','klm',age=12,year=1000)"
   ]
  },
  {
   "cell_type": "code",
   "execution_count": 15,
   "id": "e7241d63-d2ee-424a-93c6-028a1de934a5",
   "metadata": {},
   "outputs": [],
   "source": [
    "lst = ['j','klm']\n",
    "dict_v = {'age': 12, 'year': 1000}"
   ]
  },
  {
   "cell_type": "code",
   "execution_count": 18,
   "id": "6fa57457-56f9-44c9-9cb5-26d440532e03",
   "metadata": {},
   "outputs": [
    {
     "name": "stdout",
     "output_type": "stream",
     "text": [
      "('j', 'klm')\n",
      "{'age': 12, 'year': 1000}\n"
     ]
    },
    {
     "data": {
      "text/plain": [
       "(('j', 'klm'), {'age': 12, 'year': 1000})"
      ]
     },
     "execution_count": 18,
     "metadata": {},
     "output_type": "execute_result"
    }
   ],
   "source": [
    "mul(*lst,**dict_v)"
   ]
  },
  {
   "cell_type": "code",
   "execution_count": null,
   "id": "816f2e40-dcfd-4ae9-951a-49a50ea6c0bb",
   "metadata": {},
   "outputs": [],
   "source": []
  }
 ],
 "metadata": {
  "kernelspec": {
   "display_name": "Python 3 (ipykernel)",
   "language": "python",
   "name": "python3"
  },
  "language_info": {
   "codemirror_mode": {
    "name": "ipython",
    "version": 3
   },
   "file_extension": ".py",
   "mimetype": "text/x-python",
   "name": "python",
   "nbconvert_exporter": "python",
   "pygments_lexer": "ipython3",
   "version": "3.11.5"
  }
 },
 "nbformat": 4,
 "nbformat_minor": 5
}
