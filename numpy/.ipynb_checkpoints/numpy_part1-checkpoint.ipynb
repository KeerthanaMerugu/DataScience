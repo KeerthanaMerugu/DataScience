{
 "cells": [
  {
   "cell_type": "markdown",
   "id": "2b29458f-748e-4515-b06a-4d69db5d768b",
   "metadata": {},
   "source": [
    "# Numpy"
   ]
  },
  {
   "cell_type": "code",
   "execution_count": 1,
   "id": "52bfdeb0-a77f-4168-b24b-40deb3d853ff",
   "metadata": {},
   "outputs": [],
   "source": [
    "import numpy as np"
   ]
  },
  {
   "cell_type": "code",
   "execution_count": 2,
   "id": "a151e880-c05b-4ee4-8347-06a5d52cb01b",
   "metadata": {},
   "outputs": [],
   "source": [
    "lst = [1,2,3,4,5]"
   ]
  },
  {
   "cell_type": "code",
   "execution_count": 3,
   "id": "3f139f0f-6153-4a60-9501-e46077035552",
   "metadata": {},
   "outputs": [],
   "source": [
    "arr=np.array(lst)"
   ]
  },
  {
   "cell_type": "code",
   "execution_count": 4,
   "id": "4bc0e2ad-8c31-48f2-9f48-4a9e9624650f",
   "metadata": {},
   "outputs": [
    {
     "data": {
      "text/plain": [
       "numpy.ndarray"
      ]
     },
     "execution_count": 4,
     "metadata": {},
     "output_type": "execute_result"
    }
   ],
   "source": [
    "type(arr)"
   ]
  },
  {
   "cell_type": "code",
   "execution_count": 5,
   "id": "556e84fa-0bc0-4171-9d29-e2721de07be2",
   "metadata": {},
   "outputs": [
    {
     "data": {
      "text/plain": [
       "array([1, 2, 3, 4, 5])"
      ]
     },
     "execution_count": 5,
     "metadata": {},
     "output_type": "execute_result"
    }
   ],
   "source": [
    "arr"
   ]
  },
  {
   "cell_type": "code",
   "execution_count": 8,
   "id": "24e06c23-ba0b-4834-b38a-0d06f7770002",
   "metadata": {},
   "outputs": [],
   "source": [
    "arr1=np.array([[1,2,3],[1,2,3]])"
   ]
  },
  {
   "cell_type": "code",
   "execution_count": 9,
   "id": "40289275-2992-46a0-a6b5-173bfdf318ed",
   "metadata": {},
   "outputs": [
    {
     "data": {
      "text/plain": [
       "1"
      ]
     },
     "execution_count": 9,
     "metadata": {},
     "output_type": "execute_result"
    }
   ],
   "source": [
    "arr.ndim"
   ]
  },
  {
   "cell_type": "code",
   "execution_count": 10,
   "id": "725df324-14e4-4036-a5b6-3c4f56fa94b0",
   "metadata": {},
   "outputs": [
    {
     "data": {
      "text/plain": [
       "2"
      ]
     },
     "execution_count": 10,
     "metadata": {},
     "output_type": "execute_result"
    }
   ],
   "source": [
    "arr1.ndim"
   ]
  },
  {
   "cell_type": "code",
   "execution_count": 11,
   "id": "6b98f49a-b93c-4396-8ccc-93170450262d",
   "metadata": {},
   "outputs": [
    {
     "data": {
      "text/plain": [
       "array([[1, 2, 3],\n",
       "       [1, 2, 3]])"
      ]
     },
     "execution_count": 11,
     "metadata": {},
     "output_type": "execute_result"
    }
   ],
   "source": [
    "arr1"
   ]
  },
  {
   "cell_type": "code",
   "execution_count": 13,
   "id": "4a87e237-d67d-48df-a09a-d6b1e2b1f584",
   "metadata": {},
   "outputs": [],
   "source": [
    "mat=np.matrix(lst)"
   ]
  },
  {
   "cell_type": "code",
   "execution_count": 14,
   "id": "83b0f063-6f2e-483e-ac76-1509f8536884",
   "metadata": {},
   "outputs": [
    {
     "data": {
      "text/plain": [
       "array([1, 2, 3, 4, 5])"
      ]
     },
     "execution_count": 14,
     "metadata": {},
     "output_type": "execute_result"
    }
   ],
   "source": [
    "np.asarray(lst)"
   ]
  },
  {
   "cell_type": "markdown",
   "id": "e996b698-7bf1-42ad-9348-2242d96100e6",
   "metadata": {},
   "source": [
    "- matrix is one type of array it will not convert into array "
   ]
  },
  {
   "cell_type": "code",
   "execution_count": 16,
   "id": "8f50b9ad-d3e3-4491-98a2-195a1dffe669",
   "metadata": {},
   "outputs": [
    {
     "data": {
      "text/plain": [
       "matrix([[1, 2, 3, 4, 5]])"
      ]
     },
     "execution_count": 16,
     "metadata": {},
     "output_type": "execute_result"
    }
   ],
   "source": [
    "np.asanyarray(mat)"
   ]
  },
  {
   "cell_type": "code",
   "execution_count": 17,
   "id": "5dfe014d-cf45-46e5-974d-13e7ea6b0c34",
   "metadata": {},
   "outputs": [
    {
     "data": {
      "text/plain": [
       "array([1, 2, 3, 4, 5])"
      ]
     },
     "execution_count": 17,
     "metadata": {},
     "output_type": "execute_result"
    }
   ],
   "source": [
    "arr"
   ]
  },
  {
   "cell_type": "code",
   "execution_count": 18,
   "id": "dcab367c-7f41-456e-a8c9-950eec5fbbbf",
   "metadata": {},
   "outputs": [],
   "source": [
    "a=arr # shallow copy (copying refernce)"
   ]
  },
  {
   "cell_type": "code",
   "execution_count": 19,
   "id": "8b583431-dfb0-4115-be1d-9150ca7a9eb2",
   "metadata": {},
   "outputs": [
    {
     "data": {
      "text/plain": [
       "array([1, 2, 3, 4, 5])"
      ]
     },
     "execution_count": 19,
     "metadata": {},
     "output_type": "execute_result"
    }
   ],
   "source": [
    "a"
   ]
  },
  {
   "cell_type": "code",
   "execution_count": 20,
   "id": "36ed6ed0-2983-415d-92d2-1637e1904dbe",
   "metadata": {},
   "outputs": [
    {
     "data": {
      "text/plain": [
       "array([1, 2, 3, 4, 5])"
      ]
     },
     "execution_count": 20,
     "metadata": {},
     "output_type": "execute_result"
    }
   ],
   "source": [
    "arr"
   ]
  },
  {
   "cell_type": "code",
   "execution_count": 21,
   "id": "83c2fa66-d1a1-428d-8e53-1e72f7de2f23",
   "metadata": {},
   "outputs": [],
   "source": [
    "a[0]=100"
   ]
  },
  {
   "cell_type": "code",
   "execution_count": 22,
   "id": "cf06fbf4-5db7-4fb7-bfd0-c83be416cc66",
   "metadata": {},
   "outputs": [
    {
     "data": {
      "text/plain": [
       "array([100,   2,   3,   4,   5])"
      ]
     },
     "execution_count": 22,
     "metadata": {},
     "output_type": "execute_result"
    }
   ],
   "source": [
    "a"
   ]
  },
  {
   "cell_type": "code",
   "execution_count": 23,
   "id": "3ee84630-9cec-4d59-957f-260936a6253a",
   "metadata": {},
   "outputs": [
    {
     "data": {
      "text/plain": [
       "array([100,   2,   3,   4,   5])"
      ]
     },
     "execution_count": 23,
     "metadata": {},
     "output_type": "execute_result"
    }
   ],
   "source": [
    "arr"
   ]
  },
  {
   "cell_type": "code",
   "execution_count": 28,
   "id": "2f9877de-4dde-4c93-9a75-3faf3361276e",
   "metadata": {},
   "outputs": [],
   "source": [
    "b=np.copy(arr) # deep copy (only values got copied)"
   ]
  },
  {
   "cell_type": "code",
   "execution_count": 25,
   "id": "fa4340dd-0151-4a24-b841-3672839f55d7",
   "metadata": {},
   "outputs": [],
   "source": [
    "b[0]=200"
   ]
  },
  {
   "cell_type": "code",
   "execution_count": 26,
   "id": "11823702-1f34-442e-9e93-51eeb8f4b0b8",
   "metadata": {},
   "outputs": [
    {
     "data": {
      "text/plain": [
       "array([200,   2,   3,   4,   5])"
      ]
     },
     "execution_count": 26,
     "metadata": {},
     "output_type": "execute_result"
    }
   ],
   "source": [
    "b"
   ]
  },
  {
   "cell_type": "code",
   "execution_count": 27,
   "id": "89467441-8af2-4c43-901d-88d26d3896b8",
   "metadata": {},
   "outputs": [
    {
     "data": {
      "text/plain": [
       "array([100,   2,   3,   4,   5])"
      ]
     },
     "execution_count": 27,
     "metadata": {},
     "output_type": "execute_result"
    }
   ],
   "source": [
    "arr"
   ]
  },
  {
   "cell_type": "markdown",
   "id": "1455efca-8ce5-4468-9269-aadef6a21109",
   "metadata": {},
   "source": [
    "# numpy functions"
   ]
  },
  {
   "cell_type": "markdown",
   "id": "816a9ba2-8275-4f2c-aef1-26c9bc4de96e",
   "metadata": {},
   "source": [
    "check row i index with j col index"
   ]
  },
  {
   "cell_type": "markdown",
   "id": "cc2798dc-3859-4cd6-8e3a-a852ffed7d5e",
   "metadata": {},
   "source": [
    "fromfunction - we can generate data"
   ]
  },
  {
   "cell_type": "code",
   "execution_count": 29,
   "id": "6760ce28-9776-440b-a717-9188c9e8a64a",
   "metadata": {},
   "outputs": [
    {
     "data": {
      "text/plain": [
       "array([[ True, False, False],\n",
       "       [False,  True, False],\n",
       "       [False, False,  True]])"
      ]
     },
     "execution_count": 29,
     "metadata": {},
     "output_type": "execute_result"
    }
   ],
   "source": [
    "np.fromfunction(lambda i,j:i==j,(3,3))"
   ]
  },
  {
   "cell_type": "code",
   "execution_count": 30,
   "id": "0387ccce-82b2-4d8b-baf1-9d236f281c55",
   "metadata": {},
   "outputs": [
    {
     "data": {
      "text/plain": [
       "array([[0., 0., 0.],\n",
       "       [0., 1., 2.],\n",
       "       [0., 2., 4.]])"
      ]
     },
     "execution_count": 30,
     "metadata": {},
     "output_type": "execute_result"
    }
   ],
   "source": [
    "np.fromfunction(lambda i,j:i*j,(3,3))"
   ]
  },
  {
   "cell_type": "code",
   "execution_count": 32,
   "id": "1bfc9ea1-1164-42e0-b054-88d5cdab6902",
   "metadata": {},
   "outputs": [
    {
     "data": {
      "text/plain": [
       "[0, 1, 4, 9, 16]"
      ]
     },
     "execution_count": 32,
     "metadata": {},
     "output_type": "execute_result"
    }
   ],
   "source": [
    "list([ i*i for i in range(5)])"
   ]
  },
  {
   "cell_type": "code",
   "execution_count": 33,
   "id": "2946ec8c-dfdf-4c74-b3f7-f484716020e7",
   "metadata": {},
   "outputs": [],
   "source": [
    "iterable =(i*i for i in range(5))"
   ]
  },
  {
   "cell_type": "code",
   "execution_count": 34,
   "id": "33b08238-0d25-49fb-b133-bee7dd5a38bb",
   "metadata": {},
   "outputs": [
    {
     "data": {
      "text/plain": [
       "array([ 0.,  1.,  4.,  9., 16.])"
      ]
     },
     "execution_count": 34,
     "metadata": {},
     "output_type": "execute_result"
    }
   ],
   "source": [
    "np.fromiter(iterable,float)"
   ]
  },
  {
   "cell_type": "code",
   "execution_count": 35,
   "id": "681d2f1d-5c72-4dbb-9fb6-17424f2d4a7c",
   "metadata": {},
   "outputs": [
    {
     "data": {
      "text/plain": [
       "array([23., 45., 67.])"
      ]
     },
     "execution_count": 35,
     "metadata": {},
     "output_type": "execute_result"
    }
   ],
   "source": [
    "np.fromstring(\"23 45 67\",sep=' ')"
   ]
  },
  {
   "cell_type": "code",
   "execution_count": 36,
   "id": "2aadbd8b-1c91-4354-974a-02af9cf36b92",
   "metadata": {},
   "outputs": [
    {
     "data": {
      "text/plain": [
       "array([100,   2,   3,   4,   5])"
      ]
     },
     "execution_count": 36,
     "metadata": {},
     "output_type": "execute_result"
    }
   ],
   "source": [
    "arr"
   ]
  },
  {
   "cell_type": "code",
   "execution_count": 38,
   "id": "9e731a66-0d8f-4cef-aa34-69e7aa3359b4",
   "metadata": {},
   "outputs": [
    {
     "data": {
      "text/plain": [
       "array([[1, 2, 3],\n",
       "       [1, 2, 3]])"
      ]
     },
     "execution_count": 38,
     "metadata": {},
     "output_type": "execute_result"
    }
   ],
   "source": [
    "arr1"
   ]
  },
  {
   "cell_type": "code",
   "execution_count": 39,
   "id": "f5286cf8-0081-4acf-b69a-2b12d0c9ccdf",
   "metadata": {},
   "outputs": [
    {
     "data": {
      "text/plain": [
       "2"
      ]
     },
     "execution_count": 39,
     "metadata": {},
     "output_type": "execute_result"
    }
   ],
   "source": [
    "arr1.ndim"
   ]
  },
  {
   "cell_type": "code",
   "execution_count": 41,
   "id": "090e7304-e027-4298-ba6f-45c4e8ed755b",
   "metadata": {},
   "outputs": [
    {
     "data": {
      "text/plain": [
       "5"
      ]
     },
     "execution_count": 41,
     "metadata": {},
     "output_type": "execute_result"
    }
   ],
   "source": [
    "arr.size # number of elements"
   ]
  },
  {
   "cell_type": "code",
   "execution_count": 42,
   "id": "c3d45373-d421-4040-8dfb-af53de00d773",
   "metadata": {},
   "outputs": [
    {
     "data": {
      "text/plain": [
       "6"
      ]
     },
     "execution_count": 42,
     "metadata": {},
     "output_type": "execute_result"
    }
   ],
   "source": [
    "arr1.size"
   ]
  },
  {
   "cell_type": "code",
   "execution_count": 43,
   "id": "cfe637ad-a542-4445-9194-35c1af259cf3",
   "metadata": {},
   "outputs": [
    {
     "data": {
      "text/plain": [
       "(2, 3)"
      ]
     },
     "execution_count": 43,
     "metadata": {},
     "output_type": "execute_result"
    }
   ],
   "source": [
    "arr1.shape"
   ]
  },
  {
   "cell_type": "code",
   "execution_count": 45,
   "id": "7c5d6e74-b601-4b8b-a0ae-b7fb32c81dcf",
   "metadata": {},
   "outputs": [
    {
     "data": {
      "text/plain": [
       "(5,)"
      ]
     },
     "execution_count": 45,
     "metadata": {},
     "output_type": "execute_result"
    }
   ],
   "source": [
    "arr.shape # 1 dim"
   ]
  },
  {
   "cell_type": "markdown",
   "id": "510b3d10-dddc-4527-8dce-c3a47689a994",
   "metadata": {},
   "source": [
    "# numpy range functions"
   ]
  },
  {
   "cell_type": "code",
   "execution_count": 46,
   "id": "06b1e395-de2f-4918-8da1-24b03bb639cf",
   "metadata": {},
   "outputs": [
    {
     "data": {
      "text/plain": [
       "[0, 1, 2, 3, 4]"
      ]
     },
     "execution_count": 46,
     "metadata": {},
     "output_type": "execute_result"
    }
   ],
   "source": [
    "list(range(5))"
   ]
  },
  {
   "cell_type": "code",
   "execution_count": 47,
   "id": "94c9cac9-f3de-4f40-9edf-e1ddda9fdcc0",
   "metadata": {},
   "outputs": [
    {
     "data": {
      "text/plain": [
       "[0, 1, 2, 3, 4, 5, 6, 7, 8, 9]"
      ]
     },
     "execution_count": 47,
     "metadata": {},
     "output_type": "execute_result"
    }
   ],
   "source": [
    "list(range(0,10))"
   ]
  },
  {
   "cell_type": "markdown",
   "id": "5308c2ff-dd6c-4e3a-90fd-d80fbdcaa3b1",
   "metadata": {},
   "source": [
    "- range function only takes integers as input"
   ]
  },
  {
   "cell_type": "code",
   "execution_count": 48,
   "id": "f1eb0aa0-6130-48d7-a9b5-7cc528da07d7",
   "metadata": {},
   "outputs": [
    {
     "ename": "TypeError",
     "evalue": "'float' object cannot be interpreted as an integer",
     "output_type": "error",
     "traceback": [
      "\u001b[1;31m---------------------------------------------------------------------------\u001b[0m",
      "\u001b[1;31mTypeError\u001b[0m                                 Traceback (most recent call last)",
      "Cell \u001b[1;32mIn[48], line 1\u001b[0m\n\u001b[1;32m----> 1\u001b[0m \u001b[38;5;28mlist\u001b[39m(\u001b[38;5;28;43mrange\u001b[39;49m\u001b[43m(\u001b[49m\u001b[38;5;241;43m0.4\u001b[39;49m\u001b[43m,\u001b[49m\u001b[38;5;241;43m12\u001b[39;49m\u001b[43m)\u001b[49m)\n",
      "\u001b[1;31mTypeError\u001b[0m: 'float' object cannot be interpreted as an integer"
     ]
    }
   ],
   "source": [
    "list(range(0.4,12))"
   ]
  },
  {
   "cell_type": "markdown",
   "id": "dd0e8123-5949-4114-a3e7-80ddc1c97b28",
   "metadata": {},
   "source": [
    "# arange"
   ]
  },
  {
   "cell_type": "markdown",
   "id": "862f5d77-be7c-4a63-b387-4569ecf2a8cb",
   "metadata": {},
   "source": [
    "- to overcome it we can arange function"
   ]
  },
  {
   "cell_type": "code",
   "execution_count": 49,
   "id": "87e3db87-f9b4-49a4-a41c-a64c392c3f7e",
   "metadata": {},
   "outputs": [
    {
     "data": {
      "text/plain": [
       "array([0.4, 1.4, 2.4, 3.4, 4.4, 5.4, 6.4, 7.4, 8.4, 9.4])"
      ]
     },
     "execution_count": 49,
     "metadata": {},
     "output_type": "execute_result"
    }
   ],
   "source": [
    "np.arange(0.4,10)"
   ]
  },
  {
   "cell_type": "code",
   "execution_count": 54,
   "id": "1c5a7f3e-45df-44c8-ba0d-6ff1b8bef9c4",
   "metadata": {},
   "outputs": [
    {
     "data": {
      "text/plain": [
       "array([0.4, 1.4, 2.4, 3.4, 4.4, 5.4, 6.4, 7.4, 8.4, 9.4])"
      ]
     },
     "execution_count": 54,
     "metadata": {},
     "output_type": "execute_result"
    }
   ],
   "source": [
    "np.arange(0.4,10,1) #(start,stop,diff)"
   ]
  },
  {
   "cell_type": "markdown",
   "id": "d937cfb2-56b2-4082-addd-078d557a7652",
   "metadata": {},
   "source": [
    "# linspace"
   ]
  },
  {
   "cell_type": "code",
   "execution_count": 53,
   "id": "5111b262-acdc-4879-bc2d-4da3c089c28d",
   "metadata": {},
   "outputs": [
    {
     "data": {
      "text/plain": [
       "array([1.        , 1.21052632, 1.42105263, 1.63157895, 1.84210526,\n",
       "       2.05263158, 2.26315789, 2.47368421, 2.68421053, 2.89473684,\n",
       "       3.10526316, 3.31578947, 3.52631579, 3.73684211, 3.94736842,\n",
       "       4.15789474, 4.36842105, 4.57894737, 4.78947368, 5.        ])"
      ]
     },
     "execution_count": 53,
     "metadata": {},
     "output_type": "execute_result"
    }
   ],
   "source": [
    "np.linspace(1,5,20) #(start,stop,no of elements)"
   ]
  },
  {
   "cell_type": "markdown",
   "id": "fa915d33-8f96-4ea0-92cc-a19159bf7768",
   "metadata": {},
   "source": [
    "# logspace"
   ]
  },
  {
   "cell_type": "code",
   "execution_count": 55,
   "id": "8f6a60cd-316b-468e-90e3-94cee3a4043f",
   "metadata": {},
   "outputs": [
    {
     "data": {
      "text/plain": [
       "array([ 2.        ,  2.72158   ,  3.70349885,  5.0396842 ,  6.85795186,\n",
       "        9.33223232, 12.69920842, 17.28095582, 23.51575188, 32.        ])"
      ]
     },
     "execution_count": 55,
     "metadata": {},
     "output_type": "execute_result"
    }
   ],
   "source": [
    "np.logspace(1,5,10,base=2)"
   ]
  },
  {
   "cell_type": "markdown",
   "id": "0c26a3bb-b4cf-4fa3-bb88-7d7d6bbe2c23",
   "metadata": {},
   "source": [
    "# zeros"
   ]
  },
  {
   "cell_type": "code",
   "execution_count": 56,
   "id": "1b65aedb-8cd1-4ed1-9a25-84c7ae662fdd",
   "metadata": {},
   "outputs": [
    {
     "data": {
      "text/plain": [
       "array([[0., 0.],\n",
       "       [0., 0.],\n",
       "       [0., 0.]])"
      ]
     },
     "execution_count": 56,
     "metadata": {},
     "output_type": "execute_result"
    }
   ],
   "source": [
    "np.zeros((3,2))"
   ]
  },
  {
   "cell_type": "code",
   "execution_count": 57,
   "id": "2f4363c5-1e43-4456-8f8e-48aaf0f15978",
   "metadata": {},
   "outputs": [
    {
     "data": {
      "text/plain": [
       "array([0., 0., 0., 0., 0.])"
      ]
     },
     "execution_count": 57,
     "metadata": {},
     "output_type": "execute_result"
    }
   ],
   "source": [
    "np.zeros(5)"
   ]
  },
  {
   "cell_type": "code",
   "execution_count": 59,
   "id": "8f70def6-485f-4e1e-96ca-c052be750a5f",
   "metadata": {},
   "outputs": [
    {
     "data": {
      "text/plain": [
       "array([[[0., 0.],\n",
       "        [0., 0.],\n",
       "        [0., 0.],\n",
       "        [0., 0.]],\n",
       "\n",
       "       [[0., 0.],\n",
       "        [0., 0.],\n",
       "        [0., 0.],\n",
       "        [0., 0.]],\n",
       "\n",
       "       [[0., 0.],\n",
       "        [0., 0.],\n",
       "        [0., 0.],\n",
       "        [0., 0.]]])"
      ]
     },
     "execution_count": 59,
     "metadata": {},
     "output_type": "execute_result"
    }
   ],
   "source": [
    "np.zeros((3,4,2)) # 3dim matrix"
   ]
  },
  {
   "cell_type": "code",
   "execution_count": 60,
   "id": "bcd577bf-453c-4d33-933a-4fb8f1ec195f",
   "metadata": {},
   "outputs": [
    {
     "data": {
      "text/plain": [
       "array([[[[0., 0., 0.],\n",
       "         [0., 0., 0.]],\n",
       "\n",
       "        [[0., 0., 0.],\n",
       "         [0., 0., 0.]],\n",
       "\n",
       "        [[0., 0., 0.],\n",
       "         [0., 0., 0.]],\n",
       "\n",
       "        [[0., 0., 0.],\n",
       "         [0., 0., 0.]]],\n",
       "\n",
       "\n",
       "       [[[0., 0., 0.],\n",
       "         [0., 0., 0.]],\n",
       "\n",
       "        [[0., 0., 0.],\n",
       "         [0., 0., 0.]],\n",
       "\n",
       "        [[0., 0., 0.],\n",
       "         [0., 0., 0.]],\n",
       "\n",
       "        [[0., 0., 0.],\n",
       "         [0., 0., 0.]]],\n",
       "\n",
       "\n",
       "       [[[0., 0., 0.],\n",
       "         [0., 0., 0.]],\n",
       "\n",
       "        [[0., 0., 0.],\n",
       "         [0., 0., 0.]],\n",
       "\n",
       "        [[0., 0., 0.],\n",
       "         [0., 0., 0.]],\n",
       "\n",
       "        [[0., 0., 0.],\n",
       "         [0., 0., 0.]]]])"
      ]
     },
     "execution_count": 60,
     "metadata": {},
     "output_type": "execute_result"
    }
   ],
   "source": [
    "np.zeros((3,4,2,3))"
   ]
  },
  {
   "cell_type": "markdown",
   "id": "050c03f9-4445-493a-892e-3e68810e67f0",
   "metadata": {},
   "source": [
    "# ones"
   ]
  },
  {
   "cell_type": "code",
   "execution_count": 61,
   "id": "e1e843bf-b096-4576-ab50-85694a1243f8",
   "metadata": {},
   "outputs": [
    {
     "data": {
      "text/plain": [
       "array([1.])"
      ]
     },
     "execution_count": 61,
     "metadata": {},
     "output_type": "execute_result"
    }
   ],
   "source": [
    "np.ones(1)"
   ]
  },
  {
   "cell_type": "code",
   "execution_count": 63,
   "id": "e641abe5-86f5-471f-9119-07f6eb7e12dc",
   "metadata": {},
   "outputs": [
    {
     "data": {
      "text/plain": [
       "array([[1., 1., 1., 1.],\n",
       "       [1., 1., 1., 1.],\n",
       "       [1., 1., 1., 1.]])"
      ]
     },
     "execution_count": 63,
     "metadata": {},
     "output_type": "execute_result"
    }
   ],
   "source": [
    "np.ones((3,4))"
   ]
  },
  {
   "cell_type": "code",
   "execution_count": 64,
   "id": "dbfb79e8-a031-4503-a505-693b05200abb",
   "metadata": {},
   "outputs": [
    {
     "data": {
      "text/plain": [
       "array([[[1., 1.],\n",
       "        [1., 1.]],\n",
       "\n",
       "       [[1., 1.],\n",
       "        [1., 1.]],\n",
       "\n",
       "       [[1., 1.],\n",
       "        [1., 1.]]])"
      ]
     },
     "execution_count": 64,
     "metadata": {},
     "output_type": "execute_result"
    }
   ],
   "source": [
    "np.ones((3,2,2))"
   ]
  },
  {
   "cell_type": "markdown",
   "id": "47a7ef0f-83fc-46f9-ad20-55fd92ccb211",
   "metadata": {},
   "source": [
    "# empty"
   ]
  },
  {
   "cell_type": "code",
   "execution_count": 66,
   "id": "9cd6387d-3789-4e23-ae48-60f1e2534205",
   "metadata": {},
   "outputs": [
    {
     "data": {
      "text/plain": [
       "array([[ 4.92581899e-88, -1.26593783e-36]])"
      ]
     },
     "execution_count": 66,
     "metadata": {},
     "output_type": "execute_result"
    }
   ],
   "source": [
    "np.empty((1,2))"
   ]
  },
  {
   "cell_type": "markdown",
   "id": "c5cec74f-83e6-419f-8430-34c20f72c00a",
   "metadata": {},
   "source": [
    "# eye"
   ]
  },
  {
   "cell_type": "markdown",
   "id": "32e1c04b-3703-41a9-82f3-7f59483d905f",
   "metadata": {},
   "source": [
    "- diagonal elemets are 1 and no of rows== no of columns"
   ]
  },
  {
   "cell_type": "code",
   "execution_count": 67,
   "id": "eac663fe-338a-444c-b8e7-ed8b228220f3",
   "metadata": {},
   "outputs": [
    {
     "data": {
      "text/plain": [
       "array([[1., 0.],\n",
       "       [0., 1.]])"
      ]
     },
     "execution_count": 67,
     "metadata": {},
     "output_type": "execute_result"
    }
   ],
   "source": [
    "np.eye(2)"
   ]
  },
  {
   "cell_type": "code",
   "execution_count": 68,
   "id": "0f950b27-ab4b-4d0f-8147-b43a605ba34c",
   "metadata": {},
   "outputs": [
    {
     "data": {
      "text/plain": [
       "array([[1., 0., 0.],\n",
       "       [0., 1., 0.],\n",
       "       [0., 0., 1.]])"
      ]
     },
     "execution_count": 68,
     "metadata": {},
     "output_type": "execute_result"
    }
   ],
   "source": [
    "np.eye(3)"
   ]
  },
  {
   "cell_type": "code",
   "execution_count": 69,
   "id": "984fc751-6268-4eea-bde4-cc2fdd6551ec",
   "metadata": {},
   "outputs": [],
   "source": [
    "arr2 = np.array(np.eye(3))"
   ]
  },
  {
   "cell_type": "code",
   "execution_count": 70,
   "id": "c4ccd68c-1cb0-4011-ab82-861261e4038a",
   "metadata": {},
   "outputs": [],
   "source": [
    "import pandas as pd"
   ]
  },
  {
   "cell_type": "code",
   "execution_count": 71,
   "id": "53748f78-52c7-45eb-b96b-7b006ff6c54e",
   "metadata": {},
   "outputs": [
    {
     "data": {
      "text/html": [
       "<div>\n",
       "<style scoped>\n",
       "    .dataframe tbody tr th:only-of-type {\n",
       "        vertical-align: middle;\n",
       "    }\n",
       "\n",
       "    .dataframe tbody tr th {\n",
       "        vertical-align: top;\n",
       "    }\n",
       "\n",
       "    .dataframe thead th {\n",
       "        text-align: right;\n",
       "    }\n",
       "</style>\n",
       "<table border=\"1\" class=\"dataframe\">\n",
       "  <thead>\n",
       "    <tr style=\"text-align: right;\">\n",
       "      <th></th>\n",
       "      <th>0</th>\n",
       "      <th>1</th>\n",
       "      <th>2</th>\n",
       "    </tr>\n",
       "  </thead>\n",
       "  <tbody>\n",
       "    <tr>\n",
       "      <th>0</th>\n",
       "      <td>1.0</td>\n",
       "      <td>0.0</td>\n",
       "      <td>0.0</td>\n",
       "    </tr>\n",
       "    <tr>\n",
       "      <th>1</th>\n",
       "      <td>0.0</td>\n",
       "      <td>1.0</td>\n",
       "      <td>0.0</td>\n",
       "    </tr>\n",
       "    <tr>\n",
       "      <th>2</th>\n",
       "      <td>0.0</td>\n",
       "      <td>0.0</td>\n",
       "      <td>1.0</td>\n",
       "    </tr>\n",
       "  </tbody>\n",
       "</table>\n",
       "</div>"
      ],
      "text/plain": [
       "     0    1    2\n",
       "0  1.0  0.0  0.0\n",
       "1  0.0  1.0  0.0\n",
       "2  0.0  0.0  1.0"
      ]
     },
     "execution_count": 71,
     "metadata": {},
     "output_type": "execute_result"
    }
   ],
   "source": [
    "pd.DataFrame(arr2)"
   ]
  },
  {
   "cell_type": "markdown",
   "id": "d7dd06a1-98c5-4224-b7ef-1e353fdfabb5",
   "metadata": {},
   "source": [
    "# random.rand\n",
    "- it generates required ndim array but without any particular std and mean"
   ]
  },
  {
   "cell_type": "code",
   "execution_count": 72,
   "id": "9b4964f7-5be2-4615-beaa-c2076e8cd5fc",
   "metadata": {},
   "outputs": [
    {
     "data": {
      "text/plain": [
       "array([[0.04501684, 0.97119238, 0.14697689],\n",
       "       [0.54764704, 0.97667926, 0.58009306]])"
      ]
     },
     "execution_count": 72,
     "metadata": {},
     "output_type": "execute_result"
    }
   ],
   "source": [
    "np.random.rand(2,3)"
   ]
  },
  {
   "cell_type": "markdown",
   "id": "2c623f84-90e9-456d-a0af-8ae515cf76a6",
   "metadata": {},
   "source": [
    "# random.randn\n",
    "- it is similar to random.rand function but it follows std 1 and mean=0"
   ]
  },
  {
   "cell_type": "code",
   "execution_count": 73,
   "id": "b96b9259-a59e-445e-b9a5-8f488125ca4a",
   "metadata": {},
   "outputs": [
    {
     "data": {
      "text/plain": [
       "array([[ 0.76513551,  0.22068109, -0.76637809],\n",
       "       [-2.26647404, -0.24640375,  1.09938267]])"
      ]
     },
     "execution_count": 73,
     "metadata": {},
     "output_type": "execute_result"
    }
   ],
   "source": [
    "np.random.randn(2,3)"
   ]
  },
  {
   "cell_type": "markdown",
   "id": "f1f6a5ae-2369-4e60-b473-41042561cc3e",
   "metadata": {},
   "source": [
    "# random.randint\n",
    "- it generates numbers between givne range"
   ]
  },
  {
   "cell_type": "code",
   "execution_count": 75,
   "id": "57e2f713-7149-4e39-89fd-a02ebcc83778",
   "metadata": {},
   "outputs": [],
   "source": [
    "arr2=np.random.randint(1,5,(3,3))"
   ]
  },
  {
   "cell_type": "code",
   "execution_count": 76,
   "id": "6953a532-503b-4991-b797-3c5aab8685ea",
   "metadata": {},
   "outputs": [
    {
     "data": {
      "text/plain": [
       "(3, 3)"
      ]
     },
     "execution_count": 76,
     "metadata": {},
     "output_type": "execute_result"
    }
   ],
   "source": [
    "arr2.shape"
   ]
  },
  {
   "cell_type": "code",
   "execution_count": 77,
   "id": "0ad7ea04-4104-460a-9d7b-66e83b2f734f",
   "metadata": {},
   "outputs": [
    {
     "data": {
      "text/plain": [
       "array([[3],\n",
       "       [3],\n",
       "       [3],\n",
       "       [2],\n",
       "       [3],\n",
       "       [4],\n",
       "       [1],\n",
       "       [4],\n",
       "       [4]])"
      ]
     },
     "execution_count": 77,
     "metadata": {},
     "output_type": "execute_result"
    }
   ],
   "source": [
    "arr2.reshape(9,1)"
   ]
  },
  {
   "cell_type": "code",
   "execution_count": 78,
   "id": "13f1970e-e8d6-47ad-8747-5d30669eca62",
   "metadata": {},
   "outputs": [],
   "source": [
    "arr3 =np.random.randint(1,5,(3,4))"
   ]
  },
  {
   "cell_type": "code",
   "execution_count": 79,
   "id": "8d30a44e-081e-458d-8158-b69bdb335ba1",
   "metadata": {},
   "outputs": [
    {
     "data": {
      "text/plain": [
       "(3, 4)"
      ]
     },
     "execution_count": 79,
     "metadata": {},
     "output_type": "execute_result"
    }
   ],
   "source": [
    "arr3.shape"
   ]
  },
  {
   "cell_type": "code",
   "execution_count": 80,
   "id": "8707dc26-023d-4c62-ab13-cfb8564065a8",
   "metadata": {},
   "outputs": [
    {
     "data": {
      "text/plain": [
       "array([[3, 3, 3, 1],\n",
       "       [1, 3, 2, 2],\n",
       "       [2, 4, 1, 1]])"
      ]
     },
     "execution_count": 80,
     "metadata": {},
     "output_type": "execute_result"
    }
   ],
   "source": [
    "arr3"
   ]
  },
  {
   "cell_type": "code",
   "execution_count": 82,
   "id": "ef943474-df3c-4f99-9e8d-e93ca29b1f35",
   "metadata": {},
   "outputs": [
    {
     "data": {
      "text/plain": [
       "array([[3, 3, 3, 1, 1, 3],\n",
       "       [2, 2, 2, 4, 1, 1]])"
      ]
     },
     "execution_count": 82,
     "metadata": {},
     "output_type": "execute_result"
    }
   ],
   "source": [
    "arr3.reshape(2,6)"
   ]
  },
  {
   "cell_type": "code",
   "execution_count": 83,
   "id": "dd74c6a3-2c74-4386-9ab4-56e3cb226607",
   "metadata": {},
   "outputs": [
    {
     "data": {
      "text/plain": [
       "array([[[3, 3, 3],\n",
       "        [1, 1, 3]],\n",
       "\n",
       "       [[2, 2, 2],\n",
       "        [4, 1, 1]]])"
      ]
     },
     "execution_count": 83,
     "metadata": {},
     "output_type": "execute_result"
    }
   ],
   "source": [
    "arr3.reshape((2,2,3))"
   ]
  },
  {
   "cell_type": "code",
   "execution_count": 84,
   "id": "ce9ce00d-8980-4a89-a498-3157d04f9c94",
   "metadata": {},
   "outputs": [],
   "source": [
    "arr1=np.random.randint(1,10,(5,6))"
   ]
  },
  {
   "cell_type": "code",
   "execution_count": 85,
   "id": "4f63340c-09be-4975-9348-f0694cc6c8d0",
   "metadata": {},
   "outputs": [
    {
     "data": {
      "text/plain": [
       "array([[False, False, False, False, False, False],\n",
       "       [False, False, False, False, False, False],\n",
       "       [False, False, False, False, False, False],\n",
       "       [ True, False, False, False, False, False],\n",
       "       [False, False, False, False, False, False]])"
      ]
     },
     "execution_count": 85,
     "metadata": {},
     "output_type": "execute_result"
    }
   ],
   "source": [
    "arr1>8"
   ]
  },
  {
   "cell_type": "code",
   "execution_count": 86,
   "id": "eb32e090-3786-4b35-a7ab-d7d724f5d848",
   "metadata": {},
   "outputs": [
    {
     "data": {
      "text/plain": [
       "array([9])"
      ]
     },
     "execution_count": 86,
     "metadata": {},
     "output_type": "execute_result"
    }
   ],
   "source": [
    "arr1[arr1>8]"
   ]
  },
  {
   "cell_type": "code",
   "execution_count": 87,
   "id": "9ee27cc8-4408-4a68-b2f6-dbe8bcbbf172",
   "metadata": {},
   "outputs": [
    {
     "data": {
      "text/plain": [
       "array([[2, 2, 8, 3, 5, 2],\n",
       "       [2, 5, 6, 5, 2, 1],\n",
       "       [3, 1, 3, 8, 1, 2],\n",
       "       [9, 4, 4, 6, 6, 7],\n",
       "       [1, 8, 1, 1, 8, 4]])"
      ]
     },
     "execution_count": 87,
     "metadata": {},
     "output_type": "execute_result"
    }
   ],
   "source": [
    "arr1"
   ]
  },
  {
   "cell_type": "code",
   "execution_count": 88,
   "id": "2aa97a0f-ab0c-43f2-a8c5-9776d5e7b185",
   "metadata": {},
   "outputs": [
    {
     "data": {
      "text/plain": [
       "array([2, 2])"
      ]
     },
     "execution_count": 88,
     "metadata": {},
     "output_type": "execute_result"
    }
   ],
   "source": [
    "arr1[0,[0,1]]"
   ]
  },
  {
   "cell_type": "code",
   "execution_count": 89,
   "id": "f49892e5-e48a-4227-ab5f-a26ae5812066",
   "metadata": {},
   "outputs": [
    {
     "data": {
      "text/plain": [
       "array([[0.69314718, 0.69314718, 2.07944154, 1.09861229, 1.60943791,\n",
       "        0.69314718],\n",
       "       [0.69314718, 1.60943791, 1.79175947, 1.60943791, 0.69314718,\n",
       "        0.        ],\n",
       "       [1.09861229, 0.        , 1.09861229, 2.07944154, 0.        ,\n",
       "        0.69314718],\n",
       "       [2.19722458, 1.38629436, 1.38629436, 1.79175947, 1.79175947,\n",
       "        1.94591015],\n",
       "       [0.        , 2.07944154, 0.        , 0.        , 2.07944154,\n",
       "        1.38629436]])"
      ]
     },
     "execution_count": 89,
     "metadata": {},
     "output_type": "execute_result"
    }
   ],
   "source": [
    "np.log(arr1)"
   ]
  },
  {
   "cell_type": "code",
   "execution_count": 90,
   "id": "4e3ce22e-f057-4bb2-8897-5ffee5e8bf0c",
   "metadata": {},
   "outputs": [
    {
     "data": {
      "text/plain": [
       "array([[7.38905610e+00, 7.38905610e+00, 2.98095799e+03, 2.00855369e+01,\n",
       "        1.48413159e+02, 7.38905610e+00],\n",
       "       [7.38905610e+00, 1.48413159e+02, 4.03428793e+02, 1.48413159e+02,\n",
       "        7.38905610e+00, 2.71828183e+00],\n",
       "       [2.00855369e+01, 2.71828183e+00, 2.00855369e+01, 2.98095799e+03,\n",
       "        2.71828183e+00, 7.38905610e+00],\n",
       "       [8.10308393e+03, 5.45981500e+01, 5.45981500e+01, 4.03428793e+02,\n",
       "        4.03428793e+02, 1.09663316e+03],\n",
       "       [2.71828183e+00, 2.98095799e+03, 2.71828183e+00, 2.71828183e+00,\n",
       "        2.98095799e+03, 5.45981500e+01]])"
      ]
     },
     "execution_count": 90,
     "metadata": {},
     "output_type": "execute_result"
    }
   ],
   "source": [
    "np.exp(arr1)"
   ]
  },
  {
   "cell_type": "code",
   "execution_count": 91,
   "id": "9849c5ee-383a-4db2-88f9-8a6d0f423460",
   "metadata": {},
   "outputs": [
    {
     "data": {
      "text/plain": [
       "array([[2, 2, 8, 3, 5, 2],\n",
       "       [2, 5, 6, 5, 2, 1],\n",
       "       [3, 1, 3, 8, 1, 2],\n",
       "       [9, 4, 4, 6, 6, 7],\n",
       "       [1, 8, 1, 1, 8, 4]])"
      ]
     },
     "execution_count": 91,
     "metadata": {},
     "output_type": "execute_result"
    }
   ],
   "source": [
    "arr1"
   ]
  },
  {
   "cell_type": "code",
   "execution_count": 92,
   "id": "44276e4b-a382-4791-be37-533fa5de8441",
   "metadata": {},
   "outputs": [
    {
     "data": {
      "text/plain": [
       "array([[2, 2, 3, 9, 1],\n",
       "       [2, 5, 1, 4, 8],\n",
       "       [8, 6, 3, 4, 1],\n",
       "       [3, 5, 8, 6, 1],\n",
       "       [5, 2, 1, 6, 8],\n",
       "       [2, 1, 2, 7, 4]])"
      ]
     },
     "execution_count": 92,
     "metadata": {},
     "output_type": "execute_result"
    }
   ],
   "source": [
    "arr1.T"
   ]
  },
  {
   "cell_type": "code",
   "execution_count": 93,
   "id": "71adb383-7aba-4bdb-bf2d-072349cee8a7",
   "metadata": {},
   "outputs": [
    {
     "data": {
      "text/plain": [
       "array([[1.41421356, 1.41421356, 2.82842712, 1.73205081, 2.23606798,\n",
       "        1.41421356],\n",
       "       [1.41421356, 2.23606798, 2.44948974, 2.23606798, 1.41421356,\n",
       "        1.        ],\n",
       "       [1.73205081, 1.        , 1.73205081, 2.82842712, 1.        ,\n",
       "        1.41421356],\n",
       "       [3.        , 2.        , 2.        , 2.44948974, 2.44948974,\n",
       "        2.64575131],\n",
       "       [1.        , 2.82842712, 1.        , 1.        , 2.82842712,\n",
       "        2.        ]])"
      ]
     },
     "execution_count": 93,
     "metadata": {},
     "output_type": "execute_result"
    }
   ],
   "source": [
    "np.sqrt(arr1)"
   ]
  },
  {
   "cell_type": "code",
   "execution_count": 94,
   "id": "9eb83d3d-f116-4a0d-8ef1-ef197fae76f4",
   "metadata": {},
   "outputs": [
    {
     "data": {
      "text/plain": [
       "array([[ 4,  4, 10,  5,  7,  4],\n",
       "       [ 4,  7,  8,  7,  4,  3],\n",
       "       [ 5,  3,  5, 10,  3,  4],\n",
       "       [11,  6,  6,  8,  8,  9],\n",
       "       [ 3, 10,  3,  3, 10,  6]])"
      ]
     },
     "execution_count": 94,
     "metadata": {},
     "output_type": "execute_result"
    }
   ],
   "source": [
    "arr1+2"
   ]
  },
  {
   "cell_type": "code",
   "execution_count": 95,
   "id": "959d85cc-b759-4e5f-aef8-cf134cd9b9e9",
   "metadata": {},
   "outputs": [
    {
     "data": {
      "text/plain": [
       "array([[ 4,  4, 16,  6, 10,  4],\n",
       "       [ 4, 10, 12, 10,  4,  2],\n",
       "       [ 6,  2,  6, 16,  2,  4],\n",
       "       [18,  8,  8, 12, 12, 14],\n",
       "       [ 2, 16,  2,  2, 16,  8]])"
      ]
     },
     "execution_count": 95,
     "metadata": {},
     "output_type": "execute_result"
    }
   ],
   "source": [
    "arr1*2"
   ]
  },
  {
   "cell_type": "code",
   "execution_count": 96,
   "id": "0e2a2fbf-091f-4e2a-ad84-18f0156b4bf1",
   "metadata": {},
   "outputs": [
    {
     "data": {
      "text/plain": [
       "9"
      ]
     },
     "execution_count": 96,
     "metadata": {},
     "output_type": "execute_result"
    }
   ],
   "source": [
    "np.max(arr1)"
   ]
  },
  {
   "cell_type": "code",
   "execution_count": 97,
   "id": "0b06afb2-4268-449b-ae38-76689045044f",
   "metadata": {},
   "outputs": [
    {
     "data": {
      "text/plain": [
       "1"
      ]
     },
     "execution_count": 97,
     "metadata": {},
     "output_type": "execute_result"
    }
   ],
   "source": [
    "np.min(arr1)"
   ]
  },
  {
   "cell_type": "markdown",
   "id": "06f132f9-5ae8-42fb-b47e-4c8fca9524d5",
   "metadata": {},
   "source": [
    "# Array manipulation"
   ]
  },
  {
   "cell_type": "code",
   "execution_count": 98,
   "id": "534e5c29-96a0-4f2f-87c4-92b0c68f8eac",
   "metadata": {},
   "outputs": [],
   "source": [
    "arr=np.random.randint(1,10,(4,4))"
   ]
  },
  {
   "cell_type": "code",
   "execution_count": 99,
   "id": "1ece50b4-0ade-451d-8e89-3db005b313c3",
   "metadata": {},
   "outputs": [
    {
     "data": {
      "text/plain": [
       "array([[5, 6, 4, 5],\n",
       "       [6, 6, 7, 8],\n",
       "       [3, 2, 6, 6],\n",
       "       [3, 4, 3, 2]])"
      ]
     },
     "execution_count": 99,
     "metadata": {},
     "output_type": "execute_result"
    }
   ],
   "source": [
    "arr"
   ]
  },
  {
   "cell_type": "code",
   "execution_count": 100,
   "id": "fd426aba-6687-4f9b-8680-52260f188f81",
   "metadata": {},
   "outputs": [
    {
     "data": {
      "text/plain": [
       "array([[5, 6],\n",
       "       [4, 5],\n",
       "       [6, 6],\n",
       "       [7, 8],\n",
       "       [3, 2],\n",
       "       [6, 6],\n",
       "       [3, 4],\n",
       "       [3, 2]])"
      ]
     },
     "execution_count": 100,
     "metadata": {},
     "output_type": "execute_result"
    }
   ],
   "source": [
    "arr.reshape(8,2)"
   ]
  },
  {
   "cell_type": "code",
   "execution_count": 101,
   "id": "2ee2633c-57ac-4df4-a781-76759df9c01a",
   "metadata": {},
   "outputs": [
    {
     "data": {
      "text/plain": [
       "array([[5, 6, 3, 3],\n",
       "       [6, 6, 2, 4],\n",
       "       [4, 7, 6, 3],\n",
       "       [5, 8, 6, 2]])"
      ]
     },
     "execution_count": 101,
     "metadata": {},
     "output_type": "execute_result"
    }
   ],
   "source": [
    "arr.T"
   ]
  },
  {
   "cell_type": "code",
   "execution_count": 102,
   "id": "7909c507-5cd7-45a4-8882-a8e83f636cbf",
   "metadata": {},
   "outputs": [
    {
     "data": {
      "text/plain": [
       "array([5, 6, 4, 5, 6, 6, 7, 8, 3, 2, 6, 6, 3, 4, 3, 2])"
      ]
     },
     "execution_count": 102,
     "metadata": {},
     "output_type": "execute_result"
    }
   ],
   "source": [
    "arr.flatten()"
   ]
  },
  {
   "cell_type": "code",
   "execution_count": 103,
   "id": "c6c2e3f8-418a-4f54-8476-b3785767ab83",
   "metadata": {},
   "outputs": [
    {
     "data": {
      "text/plain": [
       "array([[[5, 6, 4, 5]],\n",
       "\n",
       "       [[6, 6, 7, 8]],\n",
       "\n",
       "       [[3, 2, 6, 6]],\n",
       "\n",
       "       [[3, 4, 3, 2]]])"
      ]
     },
     "execution_count": 103,
     "metadata": {},
     "output_type": "execute_result"
    }
   ],
   "source": [
    "np.expand_dims(arr,axis=1)"
   ]
  },
  {
   "cell_type": "code",
   "execution_count": 104,
   "id": "c99b59ba-7d87-47db-bd7d-8b0f5d5476c7",
   "metadata": {},
   "outputs": [
    {
     "data": {
      "text/plain": [
       "array([[[5, 6, 4, 5],\n",
       "        [6, 6, 7, 8],\n",
       "        [3, 2, 6, 6],\n",
       "        [3, 4, 3, 2]]])"
      ]
     },
     "execution_count": 104,
     "metadata": {},
     "output_type": "execute_result"
    }
   ],
   "source": [
    "np.expand_dims(arr,axis=0)"
   ]
  },
  {
   "cell_type": "markdown",
   "id": "4a9acb32-c562-4029-9cea-259fdc42fe75",
   "metadata": {},
   "source": [
    "# squeeze"
   ]
  },
  {
   "cell_type": "code",
   "execution_count": 106,
   "id": "c99b4085-6cac-4888-8135-c7dcfed56912",
   "metadata": {},
   "outputs": [],
   "source": [
    "data=np.array([[1],[2],[3]])"
   ]
  },
  {
   "cell_type": "code",
   "execution_count": 107,
   "id": "3ccab48c-c2ba-4bbe-8ece-381b38484bb5",
   "metadata": {},
   "outputs": [
    {
     "data": {
      "text/plain": [
       "array([1, 2, 3])"
      ]
     },
     "execution_count": 107,
     "metadata": {},
     "output_type": "execute_result"
    }
   ],
   "source": [
    "np.squeeze(data)"
   ]
  },
  {
   "cell_type": "markdown",
   "id": "8936c415-c3e5-4f21-b4ac-3386eaa9d5ec",
   "metadata": {},
   "source": [
    "# repeat"
   ]
  },
  {
   "cell_type": "code",
   "execution_count": 110,
   "id": "bb23121a-b074-437d-9672-025beebe9e94",
   "metadata": {},
   "outputs": [
    {
     "data": {
      "text/plain": [
       "array([1, 1, 2, 2, 3, 3])"
      ]
     },
     "execution_count": 110,
     "metadata": {},
     "output_type": "execute_result"
    }
   ],
   "source": [
    "np.repeat(data,2)"
   ]
  },
  {
   "cell_type": "markdown",
   "id": "6352c541-bd29-4570-8ae0-9e41061c1813",
   "metadata": {},
   "source": [
    "# roll"
   ]
  },
  {
   "cell_type": "code",
   "execution_count": 112,
   "id": "80c80f51-8a56-4c93-832b-0b22948ec21b",
   "metadata": {},
   "outputs": [
    {
     "data": {
      "text/plain": [
       "array([[1],\n",
       "       [2],\n",
       "       [3]])"
      ]
     },
     "execution_count": 112,
     "metadata": {},
     "output_type": "execute_result"
    }
   ],
   "source": [
    "data"
   ]
  },
  {
   "cell_type": "code",
   "execution_count": 111,
   "id": "87d53463-64d3-4c5f-8f6d-f8630cfe0ac5",
   "metadata": {},
   "outputs": [
    {
     "data": {
      "text/plain": [
       "array([[2],\n",
       "       [3],\n",
       "       [1]])"
      ]
     },
     "execution_count": 111,
     "metadata": {},
     "output_type": "execute_result"
    }
   ],
   "source": [
    "np.roll(data,2)"
   ]
  },
  {
   "cell_type": "markdown",
   "id": "e6a5fab2-2b20-4732-a49a-e43ea4fcd492",
   "metadata": {},
   "source": [
    "# diag"
   ]
  },
  {
   "cell_type": "code",
   "execution_count": 113,
   "id": "37994b22-dd9c-4f7c-bebc-287b7c40eb2f",
   "metadata": {},
   "outputs": [
    {
     "data": {
      "text/plain": [
       "array([[ 1,  0],\n",
       "       [ 0, 23]])"
      ]
     },
     "execution_count": 113,
     "metadata": {},
     "output_type": "execute_result"
    }
   ],
   "source": [
    "np.diag(np.array([1,23]))"
   ]
  },
  {
   "cell_type": "markdown",
   "id": "b6956990-17a0-46a4-9b33-6077410ae5c7",
   "metadata": {},
   "source": [
    "# Binary operations on array"
   ]
  },
  {
   "cell_type": "code",
   "execution_count": 114,
   "id": "4e639a27-ae46-45bd-9b0a-a7bc84a60cb8",
   "metadata": {},
   "outputs": [],
   "source": [
    "arr1=np.random.randint(1,10,(3,4))\n",
    "arr2=np.random.randint(1,10,(3,4))"
   ]
  },
  {
   "cell_type": "code",
   "execution_count": 115,
   "id": "fe954fe7-1307-4925-83d7-dc1a48f05d63",
   "metadata": {},
   "outputs": [
    {
     "data": {
      "text/plain": [
       "array([[8, 1, 4, 5],\n",
       "       [6, 1, 6, 2],\n",
       "       [1, 6, 7, 8]])"
      ]
     },
     "execution_count": 115,
     "metadata": {},
     "output_type": "execute_result"
    }
   ],
   "source": [
    "arr1"
   ]
  },
  {
   "cell_type": "code",
   "execution_count": 116,
   "id": "c11ad758-447c-4c18-839b-b56a9c9323db",
   "metadata": {},
   "outputs": [
    {
     "data": {
      "text/plain": [
       "array([[17,  9, 10,  6],\n",
       "       [ 7,  8, 12, 10],\n",
       "       [ 5, 14,  9, 11]])"
      ]
     },
     "execution_count": 116,
     "metadata": {},
     "output_type": "execute_result"
    }
   ],
   "source": [
    "arr1+arr2"
   ]
  },
  {
   "cell_type": "code",
   "execution_count": 117,
   "id": "a5205c0e-3ec1-4163-8e4b-7409c5bc10fc",
   "metadata": {},
   "outputs": [
    {
     "data": {
      "text/plain": [
       "array([[72,  8, 24,  5],\n",
       "       [ 6,  7, 36, 16],\n",
       "       [ 4, 48, 14, 24]])"
      ]
     },
     "execution_count": 117,
     "metadata": {},
     "output_type": "execute_result"
    }
   ],
   "source": [
    "arr1*arr2"
   ]
  },
  {
   "cell_type": "code",
   "execution_count": 118,
   "id": "174f4876-32a7-45bc-b8fd-8c2a9face6c0",
   "metadata": {},
   "outputs": [
    {
     "data": {
      "text/plain": [
       "array([[0.88888889, 0.125     , 0.66666667, 5.        ],\n",
       "       [6.        , 0.14285714, 1.        , 0.25      ],\n",
       "       [0.25      , 0.75      , 3.5       , 2.66666667]])"
      ]
     },
     "execution_count": 118,
     "metadata": {},
     "output_type": "execute_result"
    }
   ],
   "source": [
    "arr1/arr2"
   ]
  },
  {
   "cell_type": "code",
   "execution_count": 119,
   "id": "655c9165-4d56-4129-8cb7-63a84fce9ae3",
   "metadata": {},
   "outputs": [
    {
     "data": {
      "text/plain": [
       "array([[-1, -7, -2,  4],\n",
       "       [ 5, -6,  0, -6],\n",
       "       [-3, -2,  5,  5]])"
      ]
     },
     "execution_count": 119,
     "metadata": {},
     "output_type": "execute_result"
    }
   ],
   "source": [
    "arr1-arr2"
   ]
  },
  {
   "cell_type": "code",
   "execution_count": 120,
   "id": "890cbba2-70ea-4ca0-95c0-92427e655975",
   "metadata": {},
   "outputs": [
    {
     "data": {
      "text/plain": [
       "array([[134217728,         1,      4096,         5],\n",
       "       [        6,         1,     46656,       256],\n",
       "       [        1,   1679616,        49,       512]])"
      ]
     },
     "execution_count": 120,
     "metadata": {},
     "output_type": "execute_result"
    }
   ],
   "source": [
    "arr1**arr2"
   ]
  },
  {
   "cell_type": "code",
   "execution_count": 121,
   "id": "00a46207-8ea3-4bd2-8182-f26375bea53c",
   "metadata": {},
   "outputs": [
    {
     "data": {
      "text/plain": [
       "array([[-9, -2, -5, -6],\n",
       "       [-7, -2, -7, -3],\n",
       "       [-2, -7, -8, -9]])"
      ]
     },
     "execution_count": 121,
     "metadata": {},
     "output_type": "execute_result"
    }
   ],
   "source": [
    "~arr1"
   ]
  },
  {
   "cell_type": "code",
   "execution_count": 122,
   "id": "25d07613-9a9a-43d5-a1e6-708f137e58d9",
   "metadata": {},
   "outputs": [
    {
     "data": {
      "text/plain": [
       "array([[False, False, False,  True],\n",
       "       [ True, False, False, False],\n",
       "       [False, False,  True,  True]])"
      ]
     },
     "execution_count": 122,
     "metadata": {},
     "output_type": "execute_result"
    }
   ],
   "source": [
    "arr1>arr2"
   ]
  },
  {
   "cell_type": "markdown",
   "id": "8b38f922-5542-439a-9aa8-12b9e2fca1a8",
   "metadata": {},
   "source": [
    "# numpy string functions "
   ]
  },
  {
   "cell_type": "code",
   "execution_count": 123,
   "id": "4b512774-6d70-46bf-827a-d5e16a6769dd",
   "metadata": {},
   "outputs": [],
   "source": [
    "arr=np.array(['kee','rio'])"
   ]
  },
  {
   "cell_type": "code",
   "execution_count": 124,
   "id": "c0e50298-68c6-4ca5-b8e0-3f60f8ceb1bc",
   "metadata": {},
   "outputs": [
    {
     "data": {
      "text/plain": [
       "array(['kee', 'rio'], dtype='<U3')"
      ]
     },
     "execution_count": 124,
     "metadata": {},
     "output_type": "execute_result"
    }
   ],
   "source": [
    "arr"
   ]
  },
  {
   "cell_type": "code",
   "execution_count": 125,
   "id": "22403e0c-b540-4520-bbae-2a065b84e37b",
   "metadata": {},
   "outputs": [
    {
     "data": {
      "text/plain": [
       "array(['KEE', 'RIO'], dtype='<U3')"
      ]
     },
     "execution_count": 125,
     "metadata": {},
     "output_type": "execute_result"
    }
   ],
   "source": [
    "np.char.upper(arr)"
   ]
  },
  {
   "cell_type": "code",
   "execution_count": 126,
   "id": "a8cb57d0-ce61-470e-9497-0dc371ad76f8",
   "metadata": {},
   "outputs": [
    {
     "data": {
      "text/plain": [
       "array(['Kee', 'Rio'], dtype='<U3')"
      ]
     },
     "execution_count": 126,
     "metadata": {},
     "output_type": "execute_result"
    }
   ],
   "source": [
    "np.char.capitalize(arr)"
   ]
  },
  {
   "cell_type": "code",
   "execution_count": 127,
   "id": "91dd6406-994e-46fd-920b-3eefcce65bfe",
   "metadata": {},
   "outputs": [
    {
     "data": {
      "text/plain": [
       "array(['Kee', 'Rio'], dtype='<U3')"
      ]
     },
     "execution_count": 127,
     "metadata": {},
     "output_type": "execute_result"
    }
   ],
   "source": [
    "np.char.title(arr)"
   ]
  },
  {
   "cell_type": "markdown",
   "id": "f96eb8f6-d5c5-4e95-8c43-52f78490c416",
   "metadata": {},
   "source": [
    "# numpy mathematical funcitons"
   ]
  },
  {
   "cell_type": "code",
   "execution_count": 128,
   "id": "f2393940-fe33-4044-8986-9cb993e2ccd3",
   "metadata": {},
   "outputs": [
    {
     "data": {
      "text/plain": [
       "array([[8, 1, 4, 5],\n",
       "       [6, 1, 6, 2],\n",
       "       [1, 6, 7, 8]])"
      ]
     },
     "execution_count": 128,
     "metadata": {},
     "output_type": "execute_result"
    }
   ],
   "source": [
    "arr1"
   ]
  },
  {
   "cell_type": "code",
   "execution_count": 129,
   "id": "8d38c9d4-ebca-413a-96bf-bc2dc3e6384a",
   "metadata": {},
   "outputs": [
    {
     "data": {
      "text/plain": [
       "array([[ 0.98935825,  0.84147098, -0.7568025 , -0.95892427],\n",
       "       [-0.2794155 ,  0.84147098, -0.2794155 ,  0.90929743],\n",
       "       [ 0.84147098, -0.2794155 ,  0.6569866 ,  0.98935825]])"
      ]
     },
     "execution_count": 129,
     "metadata": {},
     "output_type": "execute_result"
    }
   ],
   "source": [
    "np.sin(arr1)"
   ]
  },
  {
   "cell_type": "code",
   "execution_count": 130,
   "id": "fd1ee1cf-c075-4b6a-9de6-b4834e24daa1",
   "metadata": {},
   "outputs": [
    {
     "data": {
      "text/plain": [
       "array([[-0.14550003,  0.54030231, -0.65364362,  0.28366219],\n",
       "       [ 0.96017029,  0.54030231,  0.96017029, -0.41614684],\n",
       "       [ 0.54030231,  0.96017029,  0.75390225, -0.14550003]])"
      ]
     },
     "execution_count": 130,
     "metadata": {},
     "output_type": "execute_result"
    }
   ],
   "source": [
    "np.cos(arr1)"
   ]
  },
  {
   "cell_type": "code",
   "execution_count": 131,
   "id": "92e7c88b-b7ed-44bf-b4c3-654d92486042",
   "metadata": {},
   "outputs": [
    {
     "data": {
      "text/plain": [
       "array([[-6.79971146,  1.55740772,  1.15782128, -3.38051501],\n",
       "       [-0.29100619,  1.55740772, -0.29100619, -2.18503986],\n",
       "       [ 1.55740772, -0.29100619,  0.87144798, -6.79971146]])"
      ]
     },
     "execution_count": 131,
     "metadata": {},
     "output_type": "execute_result"
    }
   ],
   "source": [
    "np.tan(arr1)"
   ]
  },
  {
   "cell_type": "code",
   "execution_count": 132,
   "id": "a2e71d59-ed4b-4d16-8e7a-fba005acc641",
   "metadata": {},
   "outputs": [
    {
     "data": {
      "text/plain": [
       "array([[0.90308999, 0.        , 0.60205999, 0.69897   ],\n",
       "       [0.77815125, 0.        , 0.77815125, 0.30103   ],\n",
       "       [0.        , 0.77815125, 0.84509804, 0.90308999]])"
      ]
     },
     "execution_count": 132,
     "metadata": {},
     "output_type": "execute_result"
    }
   ],
   "source": [
    "np.log10(arr1)"
   ]
  },
  {
   "cell_type": "code",
   "execution_count": 133,
   "id": "66202e1c-e95e-4cfa-9ab1-eb33144e415b",
   "metadata": {},
   "outputs": [
    {
     "data": {
      "text/plain": [
       "array([[2.98095799e+03, 2.71828183e+00, 5.45981500e+01, 1.48413159e+02],\n",
       "       [4.03428793e+02, 2.71828183e+00, 4.03428793e+02, 7.38905610e+00],\n",
       "       [2.71828183e+00, 4.03428793e+02, 1.09663316e+03, 2.98095799e+03]])"
      ]
     },
     "execution_count": 133,
     "metadata": {},
     "output_type": "execute_result"
    }
   ],
   "source": [
    "np.exp(arr1)"
   ]
  },
  {
   "cell_type": "code",
   "execution_count": 134,
   "id": "d679af14-2963-4ca1-aeee-d85a4f3df945",
   "metadata": {},
   "outputs": [
    {
     "data": {
      "text/plain": [
       "array([[64,  1, 16, 25],\n",
       "       [36,  1, 36,  4],\n",
       "       [ 1, 36, 49, 64]], dtype=int32)"
      ]
     },
     "execution_count": 134,
     "metadata": {},
     "output_type": "execute_result"
    }
   ],
   "source": [
    "np.power(arr1,2)"
   ]
  },
  {
   "cell_type": "code",
   "execution_count": 135,
   "id": "c0351418-bd25-410a-8dd1-7f7d2ce4cc72",
   "metadata": {},
   "outputs": [
    {
     "data": {
      "text/plain": [
       "4.583333333333333"
      ]
     },
     "execution_count": 135,
     "metadata": {},
     "output_type": "execute_result"
    }
   ],
   "source": [
    "np.mean(arr1)"
   ]
  },
  {
   "cell_type": "code",
   "execution_count": 136,
   "id": "534ad508-1e4c-43a4-806d-a8b1d8354b7c",
   "metadata": {},
   "outputs": [
    {
     "data": {
      "text/plain": [
       "5.5"
      ]
     },
     "execution_count": 136,
     "metadata": {},
     "output_type": "execute_result"
    }
   ],
   "source": [
    "np.median(arr1)"
   ]
  },
  {
   "cell_type": "code",
   "execution_count": 137,
   "id": "08de0fdc-73d5-4ec6-9b37-8a7af2dff3a2",
   "metadata": {},
   "outputs": [
    {
     "data": {
      "text/plain": [
       "2.5967394084804805"
      ]
     },
     "execution_count": 137,
     "metadata": {},
     "output_type": "execute_result"
    }
   ],
   "source": [
    "np.std(arr1)"
   ]
  },
  {
   "cell_type": "code",
   "execution_count": 138,
   "id": "7772873b-fc6a-4272-9526-9e095892db62",
   "metadata": {},
   "outputs": [
    {
     "data": {
      "text/plain": [
       "6.743055555555556"
      ]
     },
     "execution_count": 138,
     "metadata": {},
     "output_type": "execute_result"
    }
   ],
   "source": [
    "np.var(arr1)"
   ]
  },
  {
   "cell_type": "code",
   "execution_count": 139,
   "id": "68d83f35-9ab6-4a98-9624-1285a017438b",
   "metadata": {},
   "outputs": [
    {
     "data": {
      "text/plain": [
       "1"
      ]
     },
     "execution_count": 139,
     "metadata": {},
     "output_type": "execute_result"
    }
   ],
   "source": [
    "np.min(arr1)"
   ]
  },
  {
   "cell_type": "code",
   "execution_count": 140,
   "id": "554a913a-a1d3-4d46-abeb-cd8e28db2e04",
   "metadata": {},
   "outputs": [
    {
     "data": {
      "text/plain": [
       "8"
      ]
     },
     "execution_count": 140,
     "metadata": {},
     "output_type": "execute_result"
    }
   ],
   "source": [
    "np.max(arr1)"
   ]
  },
  {
   "cell_type": "markdown",
   "id": "3bc356f5-2a0a-4c36-be9d-0a2fe4866574",
   "metadata": {},
   "source": [
    "# numpy airthmetic operations"
   ]
  },
  {
   "cell_type": "code",
   "execution_count": 141,
   "id": "408869b2-d76a-4d56-a7ab-3da7502ab344",
   "metadata": {},
   "outputs": [
    {
     "data": {
      "text/plain": [
       "array([[8, 1, 4, 5],\n",
       "       [6, 1, 6, 2],\n",
       "       [1, 6, 7, 8]])"
      ]
     },
     "execution_count": 141,
     "metadata": {},
     "output_type": "execute_result"
    }
   ],
   "source": [
    "arr1"
   ]
  },
  {
   "cell_type": "code",
   "execution_count": 142,
   "id": "e59b4028-cc31-490c-ab86-f71c117d50c1",
   "metadata": {},
   "outputs": [
    {
     "data": {
      "text/plain": [
       "array([[9, 8, 6, 1],\n",
       "       [1, 7, 6, 8],\n",
       "       [4, 8, 2, 3]])"
      ]
     },
     "execution_count": 142,
     "metadata": {},
     "output_type": "execute_result"
    }
   ],
   "source": [
    "arr2"
   ]
  },
  {
   "cell_type": "code",
   "execution_count": 143,
   "id": "02cc1e1f-bbdb-421d-acb8-133af9938c35",
   "metadata": {},
   "outputs": [
    {
     "data": {
      "text/plain": [
       "array([[-1, -7, -2,  4],\n",
       "       [ 5, -6,  0, -6],\n",
       "       [-3, -2,  5,  5]])"
      ]
     },
     "execution_count": 143,
     "metadata": {},
     "output_type": "execute_result"
    }
   ],
   "source": [
    "arr1-arr2"
   ]
  },
  {
   "cell_type": "code",
   "execution_count": 144,
   "id": "77e46e93-7484-4bcb-8572-79b553f1b6bb",
   "metadata": {},
   "outputs": [
    {
     "data": {
      "text/plain": [
       "array([[-1, -7, -2,  4],\n",
       "       [ 5, -6,  0, -6],\n",
       "       [-3, -2,  5,  5]])"
      ]
     },
     "execution_count": 144,
     "metadata": {},
     "output_type": "execute_result"
    }
   ],
   "source": [
    "np.subtract(arr1,arr2)"
   ]
  },
  {
   "cell_type": "code",
   "execution_count": 145,
   "id": "820953e5-3e33-4ee8-9422-085f0b625c87",
   "metadata": {},
   "outputs": [
    {
     "data": {
      "text/plain": [
       "array([[72,  8, 24,  5],\n",
       "       [ 6,  7, 36, 16],\n",
       "       [ 4, 48, 14, 24]])"
      ]
     },
     "execution_count": 145,
     "metadata": {},
     "output_type": "execute_result"
    }
   ],
   "source": [
    "np.multiply(arr1,arr2)"
   ]
  },
  {
   "cell_type": "code",
   "execution_count": 146,
   "id": "6f90abb1-54e3-489f-bbff-e450c79e40c1",
   "metadata": {},
   "outputs": [
    {
     "data": {
      "text/plain": [
       "array([[8, 1, 4, 0],\n",
       "       [0, 1, 0, 2],\n",
       "       [1, 6, 1, 2]])"
      ]
     },
     "execution_count": 146,
     "metadata": {},
     "output_type": "execute_result"
    }
   ],
   "source": [
    "np.mod(arr1,arr2)"
   ]
  },
  {
   "cell_type": "code",
   "execution_count": 147,
   "id": "78bb3f83-b330-446a-aceb-fec769b04d7a",
   "metadata": {},
   "outputs": [
    {
     "data": {
      "text/plain": [
       "array([[134217728,         1,      4096,         5],\n",
       "       [        6,         1,     46656,       256],\n",
       "       [        1,   1679616,        49,       512]])"
      ]
     },
     "execution_count": 147,
     "metadata": {},
     "output_type": "execute_result"
    }
   ],
   "source": [
    "np.power(arr1,arr2)"
   ]
  },
  {
   "cell_type": "code",
   "execution_count": 148,
   "id": "815f8419-6fb5-4f48-a90c-b65d31c3de30",
   "metadata": {},
   "outputs": [
    {
     "data": {
      "text/plain": [
       "array([[2.82842712, 1.        , 2.        , 2.23606798],\n",
       "       [2.44948974, 1.        , 2.44948974, 1.41421356],\n",
       "       [1.        , 2.44948974, 2.64575131, 2.82842712]])"
      ]
     },
     "execution_count": 148,
     "metadata": {},
     "output_type": "execute_result"
    }
   ],
   "source": [
    "np.sqrt(arr1)"
   ]
  },
  {
   "cell_type": "code",
   "execution_count": null,
   "id": "e4413ee2-1b72-4664-8a4e-6da6ea4eee21",
   "metadata": {},
   "outputs": [],
   "source": []
  }
 ],
 "metadata": {
  "kernelspec": {
   "display_name": "Python 3 (ipykernel)",
   "language": "python",
   "name": "python3"
  },
  "language_info": {
   "codemirror_mode": {
    "name": "ipython",
    "version": 3
   },
   "file_extension": ".py",
   "mimetype": "text/x-python",
   "name": "python",
   "nbconvert_exporter": "python",
   "pygments_lexer": "ipython3",
   "version": "3.11.5"
  }
 },
 "nbformat": 4,
 "nbformat_minor": 5
}
