{
 "cells": [
  {
   "cell_type": "markdown",
   "id": "0f92fb6b-f7d1-46ad-aec5-b127316b7e85",
   "metadata": {},
   "source": [
    "# sort, search & counting functions\n"
   ]
  },
  {
   "cell_type": "code",
   "execution_count": 1,
   "id": "b31e285b-bdcd-4021-8679-aa8edf056fe0",
   "metadata": {},
   "outputs": [],
   "source": [
    "import numpy as np"
   ]
  },
  {
   "cell_type": "code",
   "execution_count": 2,
   "id": "9686837c-c680-4395-9802-ffdeda1a74d7",
   "metadata": {},
   "outputs": [],
   "source": [
    "arr=np.array([2,3,4,5,6,1,3,2])"
   ]
  },
  {
   "cell_type": "code",
   "execution_count": 3,
   "id": "9ae99299-add8-427c-9c6f-f6daa0b6abd5",
   "metadata": {},
   "outputs": [
    {
     "data": {
      "text/plain": [
       "array([1, 2, 2, 3, 3, 4, 5, 6])"
      ]
     },
     "execution_count": 3,
     "metadata": {},
     "output_type": "execute_result"
    }
   ],
   "source": [
    "np.sort(arr)"
   ]
  },
  {
   "cell_type": "code",
   "execution_count": 5,
   "id": "3769936d-6924-4658-829f-4047d367ee23",
   "metadata": {},
   "outputs": [
    {
     "data": {
      "text/plain": [
       "4"
      ]
     },
     "execution_count": 5,
     "metadata": {},
     "output_type": "execute_result"
    }
   ],
   "source": [
    "np.searchsorted(arr,6)"
   ]
  },
  {
   "cell_type": "code",
   "execution_count": 8,
   "id": "d54f2ce3-c23f-4335-b641-303c65f03466",
   "metadata": {},
   "outputs": [],
   "source": [
    "arr1=np.array([0,32,4,5,6,5,6,0,0,234])"
   ]
  },
  {
   "cell_type": "code",
   "execution_count": 9,
   "id": "6f8ceb11-7396-41cd-8d27-58c820fe237b",
   "metadata": {},
   "outputs": [
    {
     "data": {
      "text/plain": [
       "7"
      ]
     },
     "execution_count": 9,
     "metadata": {},
     "output_type": "execute_result"
    }
   ],
   "source": [
    "np.count_nonzero(arr1)"
   ]
  },
  {
   "cell_type": "code",
   "execution_count": 10,
   "id": "429864ad-3482-4233-893f-50da5b644872",
   "metadata": {},
   "outputs": [
    {
     "data": {
      "text/plain": [
       "(array([1, 2, 3, 4, 5, 6, 9], dtype=int64),)"
      ]
     },
     "execution_count": 10,
     "metadata": {},
     "output_type": "execute_result"
    }
   ],
   "source": [
    "np.where(arr1>0)"
   ]
  },
  {
   "cell_type": "code",
   "execution_count": 12,
   "id": "b7f5959e-a25f-4750-a5ce-6cac916807d5",
   "metadata": {},
   "outputs": [
    {
     "data": {
      "text/plain": [
       "array([3, 4, 5, 6, 3])"
      ]
     },
     "execution_count": 12,
     "metadata": {},
     "output_type": "execute_result"
    }
   ],
   "source": [
    "np.extract(arr>2,arr)"
   ]
  },
  {
   "cell_type": "markdown",
   "id": "dd903821-79a7-4b67-ae1f-a9e185451d52",
   "metadata": {},
   "source": [
    "# Byte Swapping"
   ]
  },
  {
   "cell_type": "code",
   "execution_count": 13,
   "id": "6dd2a44d-9957-409d-b3d1-495a8aee52f9",
   "metadata": {},
   "outputs": [
    {
     "data": {
      "text/plain": [
       "array([2, 3, 4, 5, 6, 1, 3, 2])"
      ]
     },
     "execution_count": 13,
     "metadata": {},
     "output_type": "execute_result"
    }
   ],
   "source": [
    "arr"
   ]
  },
  {
   "cell_type": "code",
   "execution_count": 14,
   "id": "19a2ce42-d070-41e7-bd3f-fd1efbba761c",
   "metadata": {},
   "outputs": [
    {
     "data": {
      "text/plain": [
       "array([ 33554432,  50331648,  67108864,  83886080, 100663296,  16777216,\n",
       "        50331648,  33554432])"
      ]
     },
     "execution_count": 14,
     "metadata": {},
     "output_type": "execute_result"
    }
   ],
   "source": [
    "arr.byteswap()"
   ]
  },
  {
   "cell_type": "markdown",
   "id": "28b203fa-1aa0-404f-9754-7fadc3d83815",
   "metadata": {},
   "source": [
    "# numpy copies and views"
   ]
  },
  {
   "cell_type": "code",
   "execution_count": 15,
   "id": "18ac8362-4732-43c1-96d7-af9b4d258c3a",
   "metadata": {},
   "outputs": [],
   "source": [
    "a=np.copy(arr)"
   ]
  },
  {
   "cell_type": "code",
   "execution_count": 16,
   "id": "c270326d-d27b-4743-8ea1-082be5a0435e",
   "metadata": {},
   "outputs": [
    {
     "data": {
      "text/plain": [
       "array([2, 3, 4, 5, 6, 1, 3, 2])"
      ]
     },
     "execution_count": 16,
     "metadata": {},
     "output_type": "execute_result"
    }
   ],
   "source": [
    "a"
   ]
  },
  {
   "cell_type": "code",
   "execution_count": 24,
   "id": "30a030f8-3105-4c15-b9e4-376f5d083945",
   "metadata": {},
   "outputs": [],
   "source": [
    "b=arr.view() # shallow copy"
   ]
  },
  {
   "cell_type": "code",
   "execution_count": 20,
   "id": "ca076306-21ca-45d9-9af0-02f13be46ff1",
   "metadata": {},
   "outputs": [
    {
     "data": {
      "text/plain": [
       "array([2, 3, 4, 5, 6, 1, 3, 2])"
      ]
     },
     "execution_count": 20,
     "metadata": {},
     "output_type": "execute_result"
    }
   ],
   "source": [
    "b"
   ]
  },
  {
   "cell_type": "code",
   "execution_count": 21,
   "id": "31061155-baf4-47d7-82d9-4a92cedc2de5",
   "metadata": {},
   "outputs": [],
   "source": [
    "b[0]=234"
   ]
  },
  {
   "cell_type": "code",
   "execution_count": 22,
   "id": "92add1e7-c460-48d9-906a-c9228515cece",
   "metadata": {},
   "outputs": [
    {
     "data": {
      "text/plain": [
       "array([234,   3,   4,   5,   6,   1,   3,   2])"
      ]
     },
     "execution_count": 22,
     "metadata": {},
     "output_type": "execute_result"
    }
   ],
   "source": [
    "b"
   ]
  },
  {
   "cell_type": "code",
   "execution_count": 23,
   "id": "09a3813a-4beb-45e0-bc45-8af0085b5439",
   "metadata": {},
   "outputs": [
    {
     "data": {
      "text/plain": [
       "array([234,   3,   4,   5,   6,   1,   3,   2])"
      ]
     },
     "execution_count": 23,
     "metadata": {},
     "output_type": "execute_result"
    }
   ],
   "source": [
    "arr"
   ]
  },
  {
   "cell_type": "markdown",
   "id": "c7a89441-04dc-4f9e-9a38-c1acbdced6b3",
   "metadata": {},
   "source": [
    "# matrix library"
   ]
  },
  {
   "cell_type": "code",
   "execution_count": 25,
   "id": "71de7643-d42f-46d6-ac99-bc911e834dd0",
   "metadata": {},
   "outputs": [],
   "source": [
    "import numpy.matlib as nm"
   ]
  },
  {
   "cell_type": "code",
   "execution_count": 26,
   "id": "6ce20ab4-d118-4cd2-b60e-468615980464",
   "metadata": {},
   "outputs": [
    {
     "data": {
      "text/plain": [
       "matrix([[0., 0., 0., 0., 0.]])"
      ]
     },
     "execution_count": 26,
     "metadata": {},
     "output_type": "execute_result"
    }
   ],
   "source": [
    "nm.zeros(5)"
   ]
  },
  {
   "cell_type": "code",
   "execution_count": 28,
   "id": "8160f364-54b6-45f9-a1d7-5688025de233",
   "metadata": {},
   "outputs": [
    {
     "data": {
      "text/plain": [
       "matrix([[1., 1., 1.],\n",
       "        [1., 1., 1.]])"
      ]
     },
     "execution_count": 28,
     "metadata": {},
     "output_type": "execute_result"
    }
   ],
   "source": [
    "nm.ones((2,3))"
   ]
  },
  {
   "cell_type": "markdown",
   "id": "8c7fb03f-6de8-4429-8d70-c7e1ca0f97f0",
   "metadata": {},
   "source": [
    "# linear algebra"
   ]
  },
  {
   "cell_type": "code",
   "execution_count": 29,
   "id": "00602640-35e1-4277-9250-cc3238af0905",
   "metadata": {},
   "outputs": [
    {
     "data": {
      "text/plain": [
       "array([  0,  32,   4,   5,   6,   5,   6,   0,   0, 234])"
      ]
     },
     "execution_count": 29,
     "metadata": {},
     "output_type": "execute_result"
    }
   ],
   "source": [
    "arr1"
   ]
  },
  {
   "cell_type": "code",
   "execution_count": 30,
   "id": "ba9c1596-b158-4489-8a08-d420ec24782d",
   "metadata": {},
   "outputs": [],
   "source": [
    "arr1=np.random.randint([[2,3],[4,5]])\n",
    "arr2=np.random.randint([[2,3],[4,5]])"
   ]
  },
  {
   "cell_type": "code",
   "execution_count": 31,
   "id": "8858e7b9-291d-4b91-9f49-cea7769a4bcf",
   "metadata": {},
   "outputs": [
    {
     "data": {
      "text/plain": [
       "array([[0, 0],\n",
       "       [9, 4]])"
      ]
     },
     "execution_count": 31,
     "metadata": {},
     "output_type": "execute_result"
    }
   ],
   "source": [
    "np.dot(arr1,arr2)"
   ]
  },
  {
   "cell_type": "code",
   "execution_count": null,
   "id": "273936bb-67c7-4430-9289-c39a5505c1a4",
   "metadata": {},
   "outputs": [],
   "source": []
  }
 ],
 "metadata": {
  "kernelspec": {
   "display_name": "Python 3 (ipykernel)",
   "language": "python",
   "name": "python3"
  },
  "language_info": {
   "codemirror_mode": {
    "name": "ipython",
    "version": 3
   },
   "file_extension": ".py",
   "mimetype": "text/x-python",
   "name": "python",
   "nbconvert_exporter": "python",
   "pygments_lexer": "ipython3",
   "version": "3.11.5"
  }
 },
 "nbformat": 4,
 "nbformat_minor": 5
}
