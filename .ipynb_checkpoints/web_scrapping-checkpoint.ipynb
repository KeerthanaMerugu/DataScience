{
 "cells": [
  {
   "cell_type": "markdown",
   "id": "f4e33f20-251f-478e-9ed0-425df003ca86",
   "metadata": {},
   "source": [
    "# web scrapping"
   ]
  },
  {
   "cell_type": "code",
   "execution_count": 2,
   "id": "3b12cbb6-2937-4f48-b100-ef8b35dae689",
   "metadata": {},
   "outputs": [],
   "source": [
    "import requests\n",
    "from bs4 import BeautifulSoup as bs\n",
    "from urllib.request import urlopen\n",
    "import logging"
   ]
  },
  {
   "cell_type": "markdown",
   "id": "f10addfd-2e63-490c-9ca3-8d01e883a759",
   "metadata": {},
   "source": [
    "# how to do scrapping\n",
    "- here we are fetching data from flipkart app\n",
    "- objective is to scrap reviews from some products on flipkart app\n",
    "- https://www.flipkart.com/search?q=iphone11 ## here iphone11 is seach string --> search string will go to server then server will return back us results.\n",
    "- so we can parametrize search string \n",
    "- \"https://www.flipkart.com/search?q=\"+\"iphone11\""
   ]
  },
  {
   "cell_type": "code",
   "execution_count": 3,
   "id": "a4ad3bab-f2cc-470e-8728-0fd0efd37f95",
   "metadata": {},
   "outputs": [],
   "source": [
    "flipkart_url = \"https://www.flipkart.com/search?q=\"+\"iphone11\""
   ]
  },
  {
   "cell_type": "markdown",
   "id": "27cdea3c-09a7-433f-afa9-2b892d89689b",
   "metadata": {},
   "source": [
    "- above we have created url but now our objective is to open url to get reviews"
   ]
  },
  {
   "cell_type": "code",
   "execution_count": 7,
   "id": "6e3c3939-404f-4f11-a320-7936b0891d2b",
   "metadata": {},
   "outputs": [
    {
     "name": "stdout",
     "output_type": "stream",
     "text": [
      "Requirement already satisfied: certifi in c:\\python311\\lib\\site-packages (2023.7.22)\n",
      "Collecting certifi\n",
      "  Obtaining dependency information for certifi from https://files.pythonhosted.org/packages/64/62/428ef076be88fa93716b576e4a01f919d25968913e817077a386fcbe4f42/certifi-2023.11.17-py3-none-any.whl.metadata\n",
      "  Downloading certifi-2023.11.17-py3-none-any.whl.metadata (2.2 kB)\n",
      "Downloading certifi-2023.11.17-py3-none-any.whl (162 kB)\n",
      "   ---------------------------------------- 0.0/162.5 kB ? eta -:--:--\n",
      "   -- ------------------------------------- 10.2/162.5 kB ? eta -:--:--\n",
      "   ------- ------------------------------- 30.7/162.5 kB 435.7 kB/s eta 0:00:01\n",
      "   ------------------- ------------------- 81.9/162.5 kB 657.6 kB/s eta 0:00:01\n",
      "   -------------------------- ----------- 112.6/162.5 kB 819.2 kB/s eta 0:00:01\n",
      "   -------------------------------------- 162.5/162.5 kB 750.2 kB/s eta 0:00:00\n",
      "Installing collected packages: certifi\n",
      "  Attempting uninstall: certifi\n",
      "    Found existing installation: certifi 2023.7.22\n",
      "    Uninstalling certifi-2023.7.22:\n"
     ]
    },
    {
     "name": "stderr",
     "output_type": "stream",
     "text": [
      "ERROR: Could not install packages due to an OSError: [WinError 5] Access is denied: 'c:\\\\python311\\\\lib\\\\site-packages\\\\certifi-2023.7.22.dist-info\\\\INSTALLER'\n",
      "Consider using the `--user` option or check the permissions.\n",
      "\n",
      "\n",
      "[notice] A new release of pip is available: 23.2.1 -> 23.3.2\n",
      "[notice] To update, run: python.exe -m pip install --upgrade pip\n"
     ]
    },
    {
     "name": "stdout",
     "output_type": "stream",
     "text": [
      "Requirement already satisfied: requests in c:\\python311\\lib\\site-packages (2.31.0)\n",
      "Requirement already satisfied: charset-normalizer<4,>=2 in c:\\python311\\lib\\site-packages (from requests) (3.2.0)\n",
      "Requirement already satisfied: idna<4,>=2.5 in c:\\python311\\lib\\site-packages (from requests) (3.4)\n",
      "Requirement already satisfied: urllib3<3,>=1.21.1 in c:\\python311\\lib\\site-packages (from requests) (2.0.5)\n",
      "Requirement already satisfied: certifi>=2017.4.17 in c:\\python311\\lib\\site-packages (from requests) (2023.7.22)\n"
     ]
    },
    {
     "name": "stderr",
     "output_type": "stream",
     "text": [
      "\n",
      "[notice] A new release of pip is available: 23.2.1 -> 23.3.2\n",
      "[notice] To update, run: python.exe -m pip install --upgrade pip\n"
     ]
    }
   ],
   "source": [
    "!pip install --upgrade certifi\n",
    "!pip install --upgrade requests\n"
   ]
  },
  {
   "cell_type": "code",
   "execution_count": 10,
   "id": "5f325343-cb7e-4e1c-a7af-538ce2b44297",
   "metadata": {},
   "outputs": [],
   "source": [
    "import ssl\n",
    "# Disable SSL verification (not recommended)\n",
    "ssl._create_default_https_context = ssl._create_unverified_context"
   ]
  },
  {
   "cell_type": "code",
   "execution_count": 12,
   "id": "f7f54476-8410-4d64-a647-77f321f3c95f",
   "metadata": {},
   "outputs": [],
   "source": [
    "urlclient=urlopen(flipkart_url)"
   ]
  },
  {
   "cell_type": "markdown",
   "id": "81c3eb42-633b-44bd-a149-e437af1262dc",
   "metadata": {},
   "source": [
    "- urlclient consists of all httpresponse data of flipkart page and in unstructured format.. we need to convert into structured way"
   ]
  },
  {
   "cell_type": "code",
   "execution_count": 13,
   "id": "468fbffb-b7a0-4acd-9d5e-a18da7e4901a",
   "metadata": {},
   "outputs": [],
   "source": [
    "flipkart_page = urlclient.read()"
   ]
  },
  {
   "cell_type": "markdown",
   "id": "ebaef3f5-1955-4054-a244-18142bf6b865",
   "metadata": {},
   "source": [
    "- for a little beatutification using BeacutifulSoup"
   ]
  },
  {
   "cell_type": "code",
   "execution_count": 15,
   "id": "97a166bc-90a1-484a-9b66-46d9cb50494a",
   "metadata": {},
   "outputs": [],
   "source": [
    "flipkart_html=bs(flipkart_page,'html.parser')"
   ]
  },
  {
   "cell_type": "markdown",
   "id": "6edbdf90-2e83-4589-a48e-08fa3af54634",
   "metadata": {},
   "source": [
    "- to get each product url -- go to flipkart page click on f12--> network console--> u can html tags\n",
    "- as per observation all iphone products links are created with div class"
   ]
  },
  {
   "cell_type": "code",
   "execution_count": 16,
   "id": "e1b1d623-e73a-4d5c-a765-822454da0b0f",
   "metadata": {},
   "outputs": [],
   "source": [
    "bigbox  = flipkart_html.find_all(\"div\",{'class':'_1AtVbE col-12-12'})"
   ]
  },
  {
   "cell_type": "code",
   "execution_count": 17,
   "id": "295facaa-8446-4ad3-b296-2377d40baefa",
   "metadata": {},
   "outputs": [
    {
     "data": {
      "text/plain": [
       "30"
      ]
     },
     "execution_count": 17,
     "metadata": {},
     "output_type": "execute_result"
    }
   ],
   "source": [
    "len(bigbox)"
   ]
  },
  {
   "cell_type": "markdown",
   "id": "5b7f3c76-6763-473a-a93d-34c6bd55ace3",
   "metadata": {},
   "source": [
    "- fiest 3 boxes will be header"
   ]
  },
  {
   "cell_type": "code",
   "execution_count": 19,
   "id": "a9a4a0fc-cfac-4e6e-8cb4-c7e72258caf7",
   "metadata": {},
   "outputs": [],
   "source": [
    "del bigbox[0:3]"
   ]
  },
  {
   "cell_type": "code",
   "execution_count": 20,
   "id": "4b651645-8ac0-4e57-99ee-6a3e895ffd07",
   "metadata": {},
   "outputs": [
    {
     "data": {
      "text/plain": [
       "'/apple-iphone-11-white-64-gb/p/itmfc6a7091eb20b?pid=MOBFWQ6BVWVEH3XE&lid=LSTMOBFWQ6BVWVEH3XE44QKUP&marketplace=FLIPKART&q=iphone11&store=tyy%2F4io&srno=s_1_2&otracker=search&fm=organic&iid=8dec3ca4-91f6-4c0d-887c-f6732d97566c.MOBFWQ6BVWVEH3XE.SEARCH&ppt=None&ppn=None&ssid=mp5gmpvhrk0000001704964394480&qH=d6db477051465f9a'"
      ]
     },
     "execution_count": 20,
     "metadata": {},
     "output_type": "execute_result"
    }
   ],
   "source": [
    "bigbox[0].div.div.div.a['href']"
   ]
  },
  {
   "cell_type": "code",
   "execution_count": 21,
   "id": "fbf23f45-d3b3-423d-a5a2-4a19b4104dfa",
   "metadata": {},
   "outputs": [
    {
     "data": {
      "text/plain": [
       "'https://www.flipkart.com/apple-iphone-11-white-64-gb/p/itmfc6a7091eb20b?pid=MOBFWQ6BVWVEH3XE&lid=LSTMOBFWQ6BVWVEH3XE44QKUP&marketplace=FLIPKART&q=iphone11&store=tyy%2F4io&srno=s_1_2&otracker=search&fm=organic&iid=8dec3ca4-91f6-4c0d-887c-f6732d97566c.MOBFWQ6BVWVEH3XE.SEARCH&ppt=None&ppn=None&ssid=mp5gmpvhrk0000001704964394480&qH=d6db477051465f9a'"
      ]
     },
     "execution_count": 21,
     "metadata": {},
     "output_type": "execute_result"
    }
   ],
   "source": [
    "\"https://www.flipkart.com\"+bigbox[0].div.div.div.a['href']"
   ]
  },
  {
   "cell_type": "code",
   "execution_count": 23,
   "id": "ed4fc560-5d03-4ef7-8ec9-6b18da1a57f8",
   "metadata": {},
   "outputs": [
    {
     "name": "stdout",
     "output_type": "stream",
     "text": [
      "https://www.flipkart.com/apple-iphone-11-white-64-gb/p/itmfc6a7091eb20b?pid=MOBFWQ6BVWVEH3XE&lid=LSTMOBFWQ6BVWVEH3XE44QKUP&marketplace=FLIPKART&q=iphone11&store=tyy%2F4io&srno=s_1_2&otracker=search&fm=organic&iid=8dec3ca4-91f6-4c0d-887c-f6732d97566c.MOBFWQ6BVWVEH3XE.SEARCH&ppt=None&ppn=None&ssid=mp5gmpvhrk0000001704964394480&qH=d6db477051465f9a\n",
      "https://www.flipkart.com/apple-iphone-11-white-128-gb/p/itme32df47ea6742?pid=MOBFWQ6B7KKRXDDS&lid=LSTMOBFWQ6B7KKRXDDSUNRXSN&marketplace=FLIPKART&q=iphone11&store=tyy%2F4io&srno=s_1_3&otracker=search&fm=organic&iid=8dec3ca4-91f6-4c0d-887c-f6732d97566c.MOBFWQ6B7KKRXDDS.SEARCH&ppt=None&ppn=None&ssid=mp5gmpvhrk0000001704964394480&qH=d6db477051465f9a\n",
      "https://www.flipkart.com/apple-iphone-11-red-64-gb/p/itmc3935326f2feb?pid=MOBFWQ6BYYV3FCU7&lid=LSTMOBFWQ6BYYV3FCU7ZCY7Y9&marketplace=FLIPKART&q=iphone11&store=tyy%2F4io&srno=s_1_4&otracker=search&fm=organic&iid=8dec3ca4-91f6-4c0d-887c-f6732d97566c.MOBFWQ6BYYV3FCU7.SEARCH&ppt=None&ppn=None&ssid=mp5gmpvhrk0000001704964394480&qH=d6db477051465f9a\n",
      "https://www.flipkart.com/apple-iphone-11-pro-max-space-grey-64-gb/p/itme0101031155f8?pid=MOBFKCTSKDMKCGQS&lid=LSTMOBFKCTSKDMKCGQSOYFAJN&marketplace=FLIPKART&q=iphone11&store=tyy%2F4io&srno=s_1_5&otracker=search&fm=organic&iid=8dec3ca4-91f6-4c0d-887c-f6732d97566c.MOBFKCTSKDMKCGQS.SEARCH&ppt=None&ppn=None&ssid=mp5gmpvhrk0000001704964394480&qH=d6db477051465f9a\n",
      "https://www.flipkart.com/apple-iphone-11-black-128-gb/p/itm8244e8d955aba?pid=MOBFWQ6BKRYBP5X8&lid=LSTMOBFWQ6BKRYBP5X8IBG6BS&marketplace=FLIPKART&q=iphone11&store=tyy%2F4io&srno=s_1_6&otracker=search&fm=organic&iid=8dec3ca4-91f6-4c0d-887c-f6732d97566c.MOBFWQ6BKRYBP5X8.SEARCH&ppt=None&ppn=None&ssid=mp5gmpvhrk0000001704964394480&qH=d6db477051465f9a\n",
      "https://www.flipkart.com/apple-iphone-11-pro-max-midnight-green-64-gb/p/itmab1763b5ca244?pid=MOBFKCTSRYPAQNYT&lid=LSTMOBFKCTSRYPAQNYTEQJHYJ&marketplace=FLIPKART&q=iphone11&store=tyy%2F4io&srno=s_1_7&otracker=search&fm=organic&iid=8dec3ca4-91f6-4c0d-887c-f6732d97566c.MOBFKCTSRYPAQNYT.SEARCH&ppt=None&ppn=None&ssid=mp5gmpvhrk0000001704964394480&qH=d6db477051465f9a\n",
      "https://www.flipkart.com/apple-iphone-11-green-64-gb/p/itm386a85013a3d1?pid=MOBFWQ6BHPMG29QM&lid=LSTMOBFWQ6BHPMG29QMKXJSSF&marketplace=FLIPKART&q=iphone11&store=tyy%2F4io&srno=s_1_8&otracker=search&fm=organic&iid=8dec3ca4-91f6-4c0d-887c-f6732d97566c.MOBFWQ6BHPMG29QM.SEARCH&ppt=None&ppn=None&ssid=mp5gmpvhrk0000001704964394480&qH=d6db477051465f9a\n",
      "https://www.flipkart.com/apple-iphone-11-purple-64-gb/p/itm2b8d03427ddac?pid=MOBFWQ6BTFFJKGKE&lid=LSTMOBFWQ6BTFFJKGKEPGQVOJ&marketplace=FLIPKART&q=iphone11&store=tyy%2F4io&srno=s_1_9&otracker=search&fm=organic&iid=8dec3ca4-91f6-4c0d-887c-f6732d97566c.MOBFWQ6BTFFJKGKE.SEARCH&ppt=None&ppn=None&ssid=mp5gmpvhrk0000001704964394480&qH=d6db477051465f9a\n",
      "https://www.flipkart.com/apple-iphone-11-pro-max-gold-64-gb/p/itm6ef18218efdf6?pid=MOBFKCTSAPAYNSGG&lid=LSTMOBFKCTSAPAYNSGGQSSR46&marketplace=FLIPKART&q=iphone11&store=tyy%2F4io&srno=s_1_10&otracker=search&fm=organic&iid=8dec3ca4-91f6-4c0d-887c-f6732d97566c.MOBFKCTSAPAYNSGG.SEARCH&ppt=None&ppn=None&ssid=mp5gmpvhrk0000001704964394480&qH=d6db477051465f9a\n",
      "https://www.flipkart.com/apple-iphone-11-pro-space-grey-512-gb/p/itmcd1f0ddbf1c21?pid=MOBFKCTSRTHRQTFT&lid=LSTMOBFKCTSRTHRQTFTSIZYYS&marketplace=FLIPKART&q=iphone11&store=tyy%2F4io&srno=s_1_11&otracker=search&fm=organic&iid=8dec3ca4-91f6-4c0d-887c-f6732d97566c.MOBFKCTSRTHRQTFT.SEARCH&ppt=None&ppn=None&ssid=mp5gmpvhrk0000001704964394480&qH=d6db477051465f9a\n",
      "https://www.flipkart.com/apple-iphone-11-pro-midnight-green-512-gb/p/itm0bdd954387ca9?pid=MOBFKCTSSJCWYGCC&lid=LSTMOBFKCTSSJCWYGCCVRNYWA&marketplace=FLIPKART&q=iphone11&store=tyy%2F4io&srno=s_1_12&otracker=search&fm=organic&iid=8dec3ca4-91f6-4c0d-887c-f6732d97566c.MOBFKCTSSJCWYGCC.SEARCH&ppt=None&ppn=None&ssid=mp5gmpvhrk0000001704964394480&qH=d6db477051465f9a\n",
      "https://www.flipkart.com/apple-iphone-11-pro-gold-512-gb/p/itm29ba3b4eeb4d5?pid=MOBFKCTS7CGXBRYE&lid=LSTMOBFKCTS7CGXBRYEVDPFSF&marketplace=FLIPKART&q=iphone11&store=tyy%2F4io&srno=s_1_13&otracker=search&fm=organic&iid=8dec3ca4-91f6-4c0d-887c-f6732d97566c.MOBFKCTS7CGXBRYE.SEARCH&ppt=None&ppn=None&ssid=mp5gmpvhrk0000001704964394480&qH=d6db477051465f9a\n",
      "https://www.flipkart.com/apple-iphone-11-pro-max-midnight-green-256-gb/p/itm68e0db18f9ecc?pid=MOBFKCTSCAAKGQV7&lid=LSTMOBFKCTSCAAKGQV7U5QXV6&marketplace=FLIPKART&q=iphone11&store=tyy%2F4io&srno=s_1_14&otracker=search&fm=organic&iid=8dec3ca4-91f6-4c0d-887c-f6732d97566c.MOBFKCTSCAAKGQV7.SEARCH&ppt=None&ppn=None&ssid=mp5gmpvhrk0000001704964394480&qH=d6db477051465f9a\n",
      "https://www.flipkart.com/apple-iphone-11-pro-max-silver-256-gb/p/itm90a95d4c7bfb4?pid=MOBFKCTSVH4EWXBV&lid=LSTMOBFKCTSVH4EWXBVDOFYMD&marketplace=FLIPKART&q=iphone11&store=tyy%2F4io&srno=s_1_15&otracker=search&fm=organic&iid=8dec3ca4-91f6-4c0d-887c-f6732d97566c.MOBFKCTSVH4EWXBV.SEARCH&ppt=None&ppn=None&ssid=mp5gmpvhrk0000001704964394480&qH=d6db477051465f9a\n",
      "https://www.flipkart.com/apple-iphone-11-pro-max-silver-64-gb/p/itm9cd54210a8047?pid=MOBFKCTSTETGYFKZ&lid=LSTMOBFKCTSTETGYFKZZHWDT6&marketplace=FLIPKART&q=iphone11&store=tyy%2F4io&srno=s_1_16&otracker=search&fm=organic&iid=8dec3ca4-91f6-4c0d-887c-f6732d97566c.MOBFKCTSTETGYFKZ.SEARCH&ppt=None&ppn=None&ssid=mp5gmpvhrk0000001704964394480&qH=d6db477051465f9a\n",
      "https://www.flipkart.com/apple-iphone-11-pro-silver-64-gb/p/itmaf0c50869f4e6?pid=MOBFKCTSZJCKYJ55&lid=LSTMOBFKCTSZJCKYJ55LWEH67&marketplace=FLIPKART&q=iphone11&store=tyy%2F4io&srno=s_1_17&otracker=search&fm=organic&iid=8dec3ca4-91f6-4c0d-887c-f6732d97566c.MOBFKCTSZJCKYJ55.SEARCH&ppt=None&ppn=None&ssid=mp5gmpvhrk0000001704964394480&qH=d6db477051465f9a\n",
      "https://www.flipkart.com/apple-iphone-11-yellow-64-gb/p/itm39b1a0ba9ddcb?pid=MOBFWQ6BWGX9VRFS&lid=LSTMOBFWQ6BWGX9VRFSRCZZAI&marketplace=FLIPKART&q=iphone11&store=tyy%2F4io&srno=s_1_18&otracker=search&fm=organic&iid=8dec3ca4-91f6-4c0d-887c-f6732d97566c.MOBFWQ6BWGX9VRFS.SEARCH&ppt=None&ppn=None&ssid=mp5gmpvhrk0000001704964394480&qH=d6db477051465f9a\n",
      "https://www.flipkart.com/apple-iphone-11-pro-silver-512-gb/p/itmb5a9e1ed61050?pid=MOBFKCTSGSPD57DD&lid=LSTMOBFKCTSGSPD57DDNXGVJ7&marketplace=FLIPKART&q=iphone11&store=tyy%2F4io&srno=s_1_19&otracker=search&fm=organic&iid=8dec3ca4-91f6-4c0d-887c-f6732d97566c.MOBFKCTSGSPD57DD.SEARCH&ppt=None&ppn=None&ssid=mp5gmpvhrk0000001704964394480&qH=d6db477051465f9a\n",
      "https://www.flipkart.com/apple-iphone-11-pro-space-grey-256-gb/p/itmbecef22a95790?pid=MOBFKCTSWGYSAS9X&lid=LSTMOBFKCTSWGYSAS9X2RHASU&marketplace=FLIPKART&q=iphone11&store=tyy%2F4io&srno=s_1_20&otracker=search&fm=organic&iid=8dec3ca4-91f6-4c0d-887c-f6732d97566c.MOBFKCTSWGYSAS9X.SEARCH&ppt=None&ppn=None&ssid=mp5gmpvhrk0000001704964394480&qH=d6db477051465f9a\n",
      "https://www.flipkart.com/apple-iphone-11-pro-max-space-grey-256-gb/p/itm2b63a650e32f7?pid=MOBFKCTSSXTRZZJD&lid=LSTMOBFKCTSSXTRZZJDH1HTO4&marketplace=FLIPKART&q=iphone11&store=tyy%2F4io&srno=s_1_21&otracker=search&fm=organic&iid=8dec3ca4-91f6-4c0d-887c-f6732d97566c.MOBFKCTSSXTRZZJD.SEARCH&ppt=None&ppn=None&ssid=mp5gmpvhrk0000001704964394480&qH=d6db477051465f9a\n",
      "https://www.flipkart.com/apple-iphone-11-pro-silver-256-gb/p/itm08eae2709cac6?pid=MOBFKCTST7PU7BWR&lid=LSTMOBFKCTST7PU7BWRBXWA4X&marketplace=FLIPKART&q=iphone11&store=tyy%2F4io&srno=s_1_22&otracker=search&fm=organic&iid=8dec3ca4-91f6-4c0d-887c-f6732d97566c.MOBFKCTST7PU7BWR.SEARCH&ppt=None&ppn=None&ssid=mp5gmpvhrk0000001704964394480&qH=d6db477051465f9a\n",
      "https://www.flipkart.com/apple-iphone-11-green-128-gb/p/itm97529bbf640ca?pid=MOBFWQ6BHBKMH4BF&lid=LSTMOBFWQ6BHBKMH4BFPOHIFL&marketplace=FLIPKART&q=iphone11&store=tyy%2F4io&srno=s_1_23&otracker=search&fm=organic&iid=8dec3ca4-91f6-4c0d-887c-f6732d97566c.MOBFWQ6BHBKMH4BF.SEARCH&ppt=None&ppn=None&ssid=mp5gmpvhrk0000001704964394480&qH=d6db477051465f9a\n",
      "https://www.flipkart.com/apple-iphone-11-pro-space-grey-64-gb/p/itm7e24c1c560208?pid=MOBFKCTSAYWUW8HP&lid=LSTMOBFKCTSAYWUW8HPJCKO3E&marketplace=FLIPKART&q=iphone11&store=tyy%2F4io&srno=s_1_24&otracker=search&fm=organic&iid=8dec3ca4-91f6-4c0d-887c-f6732d97566c.MOBFKCTSAYWUW8HP.SEARCH&ppt=None&ppn=None&ssid=mp5gmpvhrk0000001704964394480&qH=d6db477051465f9a\n"
     ]
    },
    {
     "ename": "AttributeError",
     "evalue": "'NoneType' object has no attribute 'a'",
     "output_type": "error",
     "traceback": [
      "\u001b[1;31m---------------------------------------------------------------------------\u001b[0m",
      "\u001b[1;31mAttributeError\u001b[0m                            Traceback (most recent call last)",
      "Cell \u001b[1;32mIn[23], line 2\u001b[0m\n\u001b[0;32m      1\u001b[0m \u001b[38;5;28;01mfor\u001b[39;00m i \u001b[38;5;129;01min\u001b[39;00m bigbox:\n\u001b[1;32m----> 2\u001b[0m     \u001b[38;5;28mprint\u001b[39m(\u001b[38;5;124m\"\u001b[39m\u001b[38;5;124mhttps://www.flipkart.com\u001b[39m\u001b[38;5;124m\"\u001b[39m\u001b[38;5;241m+\u001b[39m\u001b[43mi\u001b[49m\u001b[38;5;241;43m.\u001b[39;49m\u001b[43mdiv\u001b[49m\u001b[38;5;241;43m.\u001b[39;49m\u001b[43mdiv\u001b[49m\u001b[38;5;241;43m.\u001b[39;49m\u001b[43mdiv\u001b[49m\u001b[38;5;241;43m.\u001b[39;49m\u001b[43ma\u001b[49m[\u001b[38;5;124m'\u001b[39m\u001b[38;5;124mhref\u001b[39m\u001b[38;5;124m'\u001b[39m])\n",
      "\u001b[1;31mAttributeError\u001b[0m: 'NoneType' object has no attribute 'a'"
     ]
    }
   ],
   "source": [
    "for i in bigbox:\n",
    "    print(\"https://www.flipkart.com\"+i.div.div.div.a['href'])"
   ]
  },
  {
   "cell_type": "code",
   "execution_count": null,
   "id": "24370ded-69f4-4bc3-8980-cf23173af5b1",
   "metadata": {},
   "outputs": [],
   "source": []
  }
 ],
 "metadata": {
  "kernelspec": {
   "display_name": "Python 3 (ipykernel)",
   "language": "python",
   "name": "python3"
  },
  "language_info": {
   "codemirror_mode": {
    "name": "ipython",
    "version": 3
   },
   "file_extension": ".py",
   "mimetype": "text/x-python",
   "name": "python",
   "nbconvert_exporter": "python",
   "pygments_lexer": "ipython3",
   "version": "3.11.5"
  }
 },
 "nbformat": 4,
 "nbformat_minor": 5
}
