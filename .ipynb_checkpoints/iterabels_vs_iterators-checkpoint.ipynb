{
 "cells": [
  {
   "cell_type": "markdown",
   "id": "29775aef-8fe7-4fea-8920-9b495e3daa2e",
   "metadata": {},
   "source": [
    "- Iterable is an object, that one can iterate over. It generates an Iterator when passed to iter() method. An iterator is an object, which is used to iterate over an iterable object using the __next__() method. Iterators have the __next__() method, which returns the next item of the object."
   ]
  },
  {
   "cell_type": "code",
   "execution_count": 1,
   "id": "6c621c8a-c439-4cdb-8f20-2f3775a57054",
   "metadata": {},
   "outputs": [],
   "source": [
    "str='keerthana'"
   ]
  },
  {
   "cell_type": "code",
   "execution_count": 2,
   "id": "a69e15df-548a-4468-ab7e-d72c7acaf67a",
   "metadata": {},
   "outputs": [
    {
     "ename": "TypeError",
     "evalue": "'str' object is not an iterator",
     "output_type": "error",
     "traceback": [
      "\u001b[1;31m---------------------------------------------------------------------------\u001b[0m",
      "\u001b[1;31mTypeError\u001b[0m                                 Traceback (most recent call last)",
      "Cell \u001b[1;32mIn[2], line 1\u001b[0m\n\u001b[1;32m----> 1\u001b[0m \u001b[38;5;28;43mnext\u001b[39;49m\u001b[43m(\u001b[49m\u001b[38;5;28;43mstr\u001b[39;49m\u001b[43m)\u001b[49m\n",
      "\u001b[1;31mTypeError\u001b[0m: 'str' object is not an iterator"
     ]
    }
   ],
   "source": [
    "next(str)"
   ]
  },
  {
   "cell_type": "code",
   "execution_count": 3,
   "id": "f490c116-ab6c-4918-ba79-edab5c50455e",
   "metadata": {},
   "outputs": [],
   "source": [
    "it=iter(str)"
   ]
  },
  {
   "cell_type": "code",
   "execution_count": 5,
   "id": "a7a2eb47-f4cd-41ec-b148-d95c94204d2d",
   "metadata": {},
   "outputs": [
    {
     "data": {
      "text/plain": [
       "'k'"
      ]
     },
     "execution_count": 5,
     "metadata": {},
     "output_type": "execute_result"
    }
   ],
   "source": [
    "next(it)\n"
   ]
  },
  {
   "cell_type": "code",
   "execution_count": 6,
   "id": "b266c956-1406-4f5f-900e-c5b09990c591",
   "metadata": {},
   "outputs": [
    {
     "data": {
      "text/plain": [
       "'e'"
      ]
     },
     "execution_count": 6,
     "metadata": {},
     "output_type": "execute_result"
    }
   ],
   "source": [
    "next(it)\n"
   ]
  },
  {
   "cell_type": "code",
   "execution_count": null,
   "id": "675a559b-185d-462b-bce9-fbbc81dfe2b1",
   "metadata": {},
   "outputs": [],
   "source": []
  }
 ],
 "metadata": {
  "kernelspec": {
   "display_name": "Python 3 (ipykernel)",
   "language": "python",
   "name": "python3"
  },
  "language_info": {
   "codemirror_mode": {
    "name": "ipython",
    "version": 3
   },
   "file_extension": ".py",
   "mimetype": "text/x-python",
   "name": "python",
   "nbconvert_exporter": "python",
   "pygments_lexer": "ipython3",
   "version": "3.11.5"
  }
 },
 "nbformat": 4,
 "nbformat_minor": 5
}
